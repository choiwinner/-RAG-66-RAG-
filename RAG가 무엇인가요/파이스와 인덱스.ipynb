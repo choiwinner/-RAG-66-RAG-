{
 "cells": [
  {
   "cell_type": "markdown",
   "id": "200ebc35",
   "metadata": {},
   "source": [
    "`import faiss`와 `from langchain_community.vectorstores import FAISS`의 차이점을 마크다운 형태로 설명해드리겠습니다:\n",
    "\n",
    "## `import faiss` vs `from langchain_community.vectorstores import FAISS`\n",
    "\n",
    "### `import faiss`\n",
    "\n",
    "- **원본 FAISS 라이브러리**: 이는 Facebook AI Research에서 개발한 원본 FAISS 라이브러리를 직접 임포트합니다.\n",
    "- **저수준 API**: FAISS의 모든 저수준 기능에 직접 접근할 수 있습니다.\n",
    "- **유연성**: 인덱스 생성, 검색, 클러스터링 등 FAISS의 모든 기능을 세밀하게 제어할 수 있습니다.\n",
    "- **사용 사례**: 복잡한 벡터 검색 알고리즘을 직접 구현하거나 FAISS의 고급 기능을 사용해야 할 때 적합합니다.\n",
    "\n",
    "### `from langchain_community.vectorstores import FAISS`\n",
    "\n",
    "- **LangChain 래퍼**: 이는 LangChain 라이브러리에서 제공하는 FAISS 래퍼를 임포트합니다.\n",
    "- **고수준 API**: LangChain의 추상화된 인터페이스를 통해 FAISS를 사용합니다.\n",
    "- **통합성**: LangChain의 다른 컴포넌트들과 쉽게 통합할 수 있습니다.\n",
    "- **사용 편의성**: 문서 임베딩, 저장, 검색 등의 작업을 LangChain의 인터페이스를 통해 간편하게 수행할 수 있습니다.\n",
    "- **사용 사례**: RAG(Retrieval-Augmented Generation) 시스템 구축이나 LangChain의 다른 기능들과 함께 FAISS를 사용할 때 적합합니다.\n",
    "\n",
    "### 주요 차이점\n",
    "\n",
    "1. **추상화 수준**: `import faiss`는 저수준 접근을, `from langchain_community.vectorstores import FAISS`는 고수준 추상화를 제공합니다.\n",
    "2. **사용 목적**: 전자는 FAISS의 모든 기능을 직접 다룰 때, 후자는 LangChain 생태계 내에서 FAISS를 사용할 때 적합합니다.\n",
    "3. **통합성**: LangChain의 FAISS는 다른 LangChain 컴포넌트들과의 원활한 통합을 제공합니다.\n",
    "4. **기능 범위**: 원본 FAISS는 모든 기능을 제공하지만, LangChain의 FAISS는 LangChain에 최적화된 기능들을 제공합니다.\n",
    "\n",
    "선택은 프로젝트의 요구사항, 복잡성, 그리고 LangChain 생태계와의 통합 필요성에 따라 달라질 수 있습니다.\n",
    "\n",
    "Citations:\n",
    "[1] https://stackoverflow.com/questions/77883233/cannot-import-langchain-vectorstores-faiss-only-langchain-community-vectorstore\n",
    "[2] https://github.com/facebookresearch/faiss\n",
    "[3] https://ai.meta.com/tools/faiss/\n",
    "[4] https://api.python.langchain.com/en/latest/vectorstores/langchain_community.vectorstores.faiss.FAISS.html\n",
    "[5] https://python.langchain.com/docs/integrations/vectorstores/faiss/\n",
    "[6] https://rfriend.tistory.com/826"
   ]
  },
  {
   "cell_type": "code",
   "execution_count": 2,
   "id": "74b1b2f3",
   "metadata": {},
   "outputs": [],
   "source": [
    "# pip install faiss-cpu=1.9.0 설치 필요"
   ]
  },
  {
   "cell_type": "code",
   "execution_count": 1,
   "id": "0ee9b9c4-4bc0-4d56-babc-2496e657220b",
   "metadata": {},
   "outputs": [],
   "source": [
    "import numpy as np \n",
    "import faiss  # faiss 라이브러리 직접 호출"
   ]
  },
  {
   "cell_type": "code",
   "execution_count": 3,
   "id": "daa378e2-2d5b-4951-a9fc-6b05ebb358e1",
   "metadata": {},
   "outputs": [],
   "source": [
    "dimension = 128    # 각 벡터의 차원                \n",
    "n = 200    # 벡터 수                   \n",
    "np.random.seed(1)             \n",
    "db_vectors = np.random.random((n, dimension)).astype('float32') #(200 * 128) 벡터 행렬"
   ]
  },
  {
   "cell_type": "code",
   "execution_count": 4,
   "id": "98453dcc",
   "metadata": {},
   "outputs": [
    {
     "data": {
      "text/plain": [
       "array([4.17021990e-01, 7.20324516e-01, 1.14374816e-04, 3.02332580e-01,\n",
       "       1.46755889e-01, 9.23385918e-02, 1.86260208e-01, 3.45560730e-01,\n",
       "       3.96767467e-01, 5.38816750e-01, 4.19194520e-01, 6.85219526e-01,\n",
       "       2.04452246e-01, 8.78117442e-01, 2.73875929e-02, 6.70467496e-01,\n",
       "       4.17304814e-01, 5.58689833e-01, 1.40386939e-01, 1.98101491e-01,\n",
       "       8.00744593e-01, 9.68261600e-01, 3.13424170e-01, 6.92322612e-01,\n",
       "       8.76389146e-01, 8.94606650e-01, 8.50442126e-02, 3.90547849e-02,\n",
       "       1.69830427e-01, 8.78142476e-01, 9.83468369e-02, 4.21107620e-01,\n",
       "       9.57889557e-01, 5.33165276e-01, 6.91877127e-01, 3.15515637e-01,\n",
       "       6.86500907e-01, 8.34625661e-01, 1.82882771e-02, 7.50144303e-01,\n",
       "       9.88861084e-01, 7.48165667e-01, 2.80443996e-01, 7.89279342e-01,\n",
       "       1.03226006e-01, 4.47893530e-01, 9.08595502e-01, 2.93614149e-01,\n",
       "       2.87775338e-01, 1.30028576e-01, 1.93669572e-02, 6.78835511e-01,\n",
       "       2.11628109e-01, 2.65546650e-01, 4.91573155e-01, 5.33625446e-02,\n",
       "       5.74117601e-01, 1.46728575e-01, 5.89305520e-01, 6.99758351e-01,\n",
       "       1.02334432e-01, 4.14055973e-01, 6.94400132e-01, 4.14179265e-01,\n",
       "       4.99534607e-02, 5.35896420e-01, 6.63794637e-01, 5.14889121e-01,\n",
       "       9.44594741e-01, 5.86555064e-01, 9.03401911e-01, 1.37474701e-01,\n",
       "       1.39276341e-01, 8.07391286e-01, 3.97676826e-01, 1.65354192e-01,\n",
       "       9.27508593e-01, 3.47765863e-01, 7.50812113e-01, 7.25997984e-01,\n",
       "       8.83306086e-01, 6.23672187e-01, 7.50942409e-01, 3.48898351e-01,\n",
       "       2.69927889e-01, 8.95886242e-01, 4.28091198e-01, 9.64840055e-01,\n",
       "       6.63441479e-01, 6.21695697e-01, 1.14745975e-01, 9.49489236e-01,\n",
       "       4.49912131e-01, 5.78389585e-01, 4.08136815e-01, 2.37026975e-01,\n",
       "       9.03379500e-01, 5.73679507e-01, 2.87032709e-03, 6.17144942e-01,\n",
       "       3.26644897e-01, 5.27058125e-01, 8.85942101e-01, 3.57269764e-01,\n",
       "       9.08535123e-01, 6.23360097e-01, 1.58212427e-02, 9.29437220e-01,\n",
       "       6.90896928e-01, 9.97322857e-01, 1.72340512e-01, 1.37135744e-01,\n",
       "       9.32595491e-01, 6.96818173e-01, 6.60001710e-02, 7.55463064e-01,\n",
       "       7.53876209e-01, 9.23024535e-01, 7.11524785e-01, 1.24270961e-01,\n",
       "       1.98801346e-02, 2.62109861e-02, 2.83064879e-02, 2.46211067e-01,\n",
       "       8.60027969e-01, 5.38831055e-01, 5.52821994e-01, 8.42030883e-01],\n",
       "      dtype=float32)"
      ]
     },
     "execution_count": 4,
     "metadata": {},
     "output_type": "execute_result"
    }
   ],
   "source": [
    "db_vectors[0]"
   ]
  },
  {
   "cell_type": "code",
   "execution_count": 5,
   "id": "2f1c6ad5",
   "metadata": {},
   "outputs": [
    {
     "data": {
      "text/plain": [
       "128"
      ]
     },
     "execution_count": 5,
     "metadata": {},
     "output_type": "execute_result"
    }
   ],
   "source": [
    "len(db_vectors[0])"
   ]
  },
  {
   "cell_type": "code",
   "execution_count": 6,
   "id": "630497fd",
   "metadata": {},
   "outputs": [
    {
     "data": {
      "text/plain": [
       "200"
      ]
     },
     "execution_count": 6,
     "metadata": {},
     "output_type": "execute_result"
    }
   ],
   "source": [
    "len(db_vectors)"
   ]
  },
  {
   "cell_type": "markdown",
   "id": "f1e2719b",
   "metadata": {},
   "source": [
    "#1. IndexFlatL2 (Flat Index)\n",
    "\n",
    "가장 기본적인 인덱스로, 모든 벡터 간의 L2 거리(유클리드 거리)를 계산합니다. 정확도는 높지만 대규모 데이터셋에서는 속도가 느립니다.\n",
    "\n",
    "주요 특징\n",
    "L2 거리 측정: 벡터 간의 유클리드 거리를 계산하여 유사성을 평가합니다.\n",
    "\n",
    "단순성: 복잡한 구조 없이 플랫(flat)하게 모든 벡터를 저장하고, 검색 시 전체 데이터셋을 순회하여 가장 유사한 벡터를 찾습니다.\n",
    "\n",
    "빠른 검색 속도: 인덱스의 생성과 검색 속도가 매우 빠르며, GPU 가속을 사용할 경우 더욱 향상됩니다.\n",
    "\n",
    "사용 용이성: 사용법이 직관적이며, 간단하게 인덱스를 생성하고 벡터를 추가할 수 있습니다."
   ]
  },
  {
   "cell_type": "code",
   "execution_count": 7,
   "id": "ad055b53",
   "metadata": {},
   "outputs": [],
   "source": [
    "# FAISS 인덱스 생성(가장 간단한 Index)\n",
    "index_FlatL2 = faiss.IndexFlatL2(dimension) #128개 차원의 IndexFlatL2 생성"
   ]
  },
  {
   "cell_type": "code",
   "execution_count": 8,
   "id": "d511d32e",
   "metadata": {},
   "outputs": [
    {
     "name": "stdout",
     "output_type": "stream",
     "text": [
      "True\n",
      "0\n"
     ]
    }
   ],
   "source": [
    "print(index_FlatL2.is_trained)   # Index의 훈련 유무 출력(False:훈련 안됨)\n",
    "print(index_FlatL2.ntotal)       # Index에 들어있는 벡터 수 출력"
   ]
  },
  {
   "cell_type": "code",
   "execution_count": 9,
   "id": "72bd803d",
   "metadata": {},
   "outputs": [
    {
     "name": "stdout",
     "output_type": "stream",
     "text": [
      "200\n"
     ]
    }
   ],
   "source": [
    "index_FlatL2.add(db_vectors)     # Index 훈련\n",
    "print(index_FlatL2.ntotal)       # Index에 들어있는 벡터 수 출력"
   ]
  },
  {
   "cell_type": "code",
   "execution_count": 10,
   "id": "a6bc7aaa",
   "metadata": {},
   "outputs": [],
   "source": [
    "# 질의 벡터 생성 및 검색 \n",
    "query_vector = np.random.random((1, dimension)).astype('float32')\n"
   ]
  },
  {
   "cell_type": "code",
   "execution_count": 11,
   "id": "a8f30f0c",
   "metadata": {},
   "outputs": [
    {
     "data": {
      "text/plain": [
       "128"
      ]
     },
     "execution_count": 11,
     "metadata": {},
     "output_type": "execute_result"
    }
   ],
   "source": [
    "len(query_vector[0])"
   ]
  },
  {
   "cell_type": "code",
   "execution_count": 12,
   "id": "52e65416",
   "metadata": {},
   "outputs": [
    {
     "name": "stdout",
     "output_type": "stream",
     "text": [
      "[[ 16 167 160   8 163]]\n"
     ]
    }
   ],
   "source": [
    "# 질의 벡터 검색\n",
    "distances, indices = index_FlatL2.search(query_vector, 5) #검색 수행\n",
    "print(indices) # 가까운 벡터의 인덱스 출력"
   ]
  },
  {
   "cell_type": "code",
   "execution_count": 13,
   "id": "03caf0db",
   "metadata": {},
   "outputs": [
    {
     "name": "stdout",
     "output_type": "stream",
     "text": [
      "[[17.039015 17.364923 17.437662 17.465065 17.481533]]\n"
     ]
    }
   ],
   "source": [
    "print(distances) # 가까운 벡터의 거리 출력"
   ]
  },
  {
   "cell_type": "code",
   "execution_count": 14,
   "id": "0da4c7a5",
   "metadata": {},
   "outputs": [
    {
     "data": {
      "text/plain": [
       "array([0.495495  , 0.8244596 , 0.85397243, 0.59582996, 0.24017373,\n",
       "       0.18649268, 0.7433905 , 0.23721406, 0.5394909 , 0.7492808 ,\n",
       "       0.2282491 , 0.17450118, 0.03973569, 0.14756884, 0.8514389 ,\n",
       "       0.10463591, 0.22364505, 0.0327572 , 0.6763566 , 0.23170315,\n",
       "       0.4135917 , 0.13930117, 0.3772173 , 0.42443746, 0.47296494,\n",
       "       0.42284182, 0.10275657, 0.77258027, 0.137206  , 0.4242924 ,\n",
       "       0.27195612, 0.30100796, 0.6724208 , 0.51778674, 0.19008705,\n",
       "       0.46913445, 0.33954087, 0.7044972 , 0.2260952 , 0.8449881 ,\n",
       "       0.5262297 , 0.5006196 , 0.2536858 , 0.18615568, 0.47181907,\n",
       "       0.9818244 , 0.13290624, 0.28346244, 0.8006412 , 0.6647769 ,\n",
       "       0.2787584 , 0.31464761, 0.41994825, 0.6027868 , 0.7193388 ,\n",
       "       0.85730034, 0.68111145, 0.23698206, 0.9257205 , 0.7811954 ,\n",
       "       0.30738148, 0.30496565, 0.8811683 , 0.12607849, 0.6334608 ,\n",
       "       0.27771273, 0.82720035, 0.36452344, 0.7333661 , 0.19241789,\n",
       "       0.4814459 , 0.80359465, 0.3969882 , 0.16157404, 0.6489822 ,\n",
       "       0.7533258 , 0.28019264, 0.45136186, 0.9004489 , 0.8719856 ,\n",
       "       0.7071876 , 0.5909006 , 0.8173823 , 0.9076446 , 0.00250756,\n",
       "       0.39722776, 0.5614097 , 0.73392314, 0.08747276, 0.399755  ,\n",
       "       0.27962118, 0.42351004, 0.49797863, 0.6600152 , 0.49623615,\n",
       "       0.6204682 , 0.58243984, 0.4283324 , 0.00497636, 0.19451642,\n",
       "       0.32020664, 0.14697812, 0.59866387, 0.6114995 , 0.5000933 ,\n",
       "       0.3208489 , 0.653258  , 0.19028348, 0.00588098, 0.734942  ,\n",
       "       0.44350386, 0.69784164, 0.18504335, 0.06261981, 0.3781086 ,\n",
       "       0.6959965 , 0.10281837, 0.19583423, 0.45395264, 0.6211492 ,\n",
       "       0.7501243 , 0.10973502, 0.6246236 , 0.3873605 , 0.6700904 ,\n",
       "       0.20356038, 0.5279188 , 0.17216255], dtype=float32)"
      ]
     },
     "execution_count": 14,
     "metadata": {},
     "output_type": "execute_result"
    }
   ],
   "source": [
    "db_vectors[indices[0]][0]"
   ]
  },
  {
   "cell_type": "code",
   "execution_count": 15,
   "id": "23c1a4c8",
   "metadata": {},
   "outputs": [],
   "source": [
    "#METRIC_L2 (유클리디안 거리의 제곱)\n",
    "#가장 기본적이고 널리 사용되는 메트릭입니다.\n",
    "#FAISS는 계산 효율성을 위해 실제 유클리디안 거리의 제곱값을 반환합니다15.\n",
    "#정확한 유클리디안 거리가 필요한 경우, 결과값의 제곱근을 취해야 합니다.\n",
    "np_distance = []\n",
    "\n",
    "for a in db_vectors[indices[0]]:\n",
    "    eu_distance = np.linalg.norm(query_vector- a)\n",
    "    np_distance.append(eu_distance*eu_distance)\n"
   ]
  },
  {
   "cell_type": "code",
   "execution_count": 16,
   "id": "8d32559b",
   "metadata": {},
   "outputs": [
    {
     "data": {
      "text/plain": [
       "[np.float32(17.039013),\n",
       " np.float32(17.364925),\n",
       " np.float32(17.437662),\n",
       " np.float32(17.465069),\n",
       " np.float32(17.481533)]"
      ]
     },
     "execution_count": 16,
     "metadata": {},
     "output_type": "execute_result"
    }
   ],
   "source": [
    "#index값으로 찾은 vector와 query vector 유클리디언값(의 제곱)\n",
    "np_distance"
   ]
  },
  {
   "cell_type": "code",
   "execution_count": 17,
   "id": "121c7098",
   "metadata": {},
   "outputs": [
    {
     "name": "stdout",
     "output_type": "stream",
     "text": [
      "[[17.039015 17.364923 17.437662 17.465065 17.481533]]\n"
     ]
    }
   ],
   "source": [
    "#index_FlatL2가 출력한 거리값(유클리디언값의 제곱)\n",
    "print(distances) # 가까운 벡터의 거리 출력"
   ]
  },
  {
   "cell_type": "markdown",
   "id": "34aa2581",
   "metadata": {},
   "source": [
    "#2. IndexIVFFlat (Inverted File Index)\n",
    "\n",
    "벡터 공간을 여러 클러스터로 나누어 검색을 최적화합니다. 속도와 정확도 사이의 균형을 제공합니다."
   ]
  },
  {
   "cell_type": "code",
   "execution_count": 18,
   "id": "ebb5bb9f-24d4-4b69-bb54-c0bbb8699cb1",
   "metadata": {},
   "outputs": [],
   "source": [
    "nlist = 5  # 클러스터 수 설정\n",
    "quantizer = faiss.IndexFlatL2(dimension)  # 기본 인덱스로 사용할 L2 거리 인덱스\n",
    "indexIVFFlat = faiss.IndexIVFFlat(quantizer, dimension, nlist, faiss.METRIC_L2)  # IVFFlat 인덱스 생성\n",
    "\n",
    "# 인덱스 훈련 (벡터를 클러스터로 나누기 위해)\n",
    "indexIVFFlat.train(db_vectors)\n"
   ]
  },
  {
   "cell_type": "code",
   "execution_count": 19,
   "id": "358b6cca",
   "metadata": {},
   "outputs": [
    {
     "data": {
      "text/plain": [
       "array([[0.51896226, 0.47654015, 0.5368821 , 0.5282546 , 0.65948504,\n",
       "        0.4634174 , 0.9187709 , 0.6178484 , 0.46681112, 0.41112924,\n",
       "        0.29309502, 0.46059218, 0.31234762, 0.01826742, 0.58979994,\n",
       "        0.87127876, 0.67501646, 0.18006566, 0.3065254 , 0.72627825,\n",
       "        0.8692575 , 0.19019377, 0.9253766 , 0.70793074, 0.78773016,\n",
       "        0.31132275, 0.01789206, 0.00957425, 0.49873832, 0.6273742 ,\n",
       "        0.287044  , 0.9620488 , 0.60957676, 0.27828148, 0.77927214,\n",
       "        0.03722881, 0.57655907, 0.32366726, 0.19875748, 0.9549968 ,\n",
       "        0.9964548 , 0.46789098, 0.34161967, 0.20671977, 0.9509407 ,\n",
       "        0.8603988 , 0.7644148 , 0.9189244 , 0.8834365 , 0.25827435,\n",
       "        0.28686005, 0.06498376, 0.13621919, 0.650175  , 0.6910362 ,\n",
       "        0.20218998, 0.18410665, 0.8459856 , 0.0833741 , 0.9938824 ,\n",
       "        0.3509631 , 0.65216297, 0.9862028 , 0.04210377, 0.06414261,\n",
       "        0.83648014, 0.25399518, 0.5138526 , 0.2941046 , 0.5587839 ,\n",
       "        0.31048656, 0.8019319 , 0.09347726, 0.48509428, 0.45974484,\n",
       "        0.68958926, 0.01277887, 0.21759418, 0.98614305, 0.5952385 ,\n",
       "        0.93844837, 0.5608914 , 0.32390103, 0.9986214 , 0.87054497,\n",
       "        0.7051642 , 0.33890602, 0.3031494 , 0.27196637, 0.9756241 ,\n",
       "        0.39157495, 0.36859733, 0.3600478 , 0.61076754, 0.20894961,\n",
       "        0.5600799 , 0.01427796, 0.09737496, 0.47140074, 0.97904944,\n",
       "        0.2936634 , 0.80335456, 0.59827876, 0.76546687, 0.823575  ,\n",
       "        0.33103105, 0.46373442, 0.5034146 , 0.54079604, 0.8833549 ,\n",
       "        0.1408287 , 0.4059833 , 0.93663263, 0.9592332 , 0.8638612 ,\n",
       "        0.7518256 , 0.3812395 , 0.3023588 , 0.32595938, 0.68941396,\n",
       "        0.963984  , 0.15598422, 0.9836076 , 0.0812117 , 0.039612  ,\n",
       "        0.23927952, 0.4247204 , 0.42873093]], dtype=float32)"
      ]
     },
     "execution_count": 19,
     "metadata": {},
     "output_type": "execute_result"
    }
   ],
   "source": [
    "query_vector"
   ]
  },
  {
   "cell_type": "code",
   "execution_count": 20,
   "id": "e5054039",
   "metadata": {},
   "outputs": [
    {
     "name": "stdout",
     "output_type": "stream",
     "text": [
      "True\n",
      "0\n"
     ]
    }
   ],
   "source": [
    "print(indexIVFFlat.is_trained)   # Index의 훈련 유무 출력(False:훈련 안됨)\n",
    "print(indexIVFFlat.ntotal)       # Index에 들어있는 벡터 수 출력"
   ]
  },
  {
   "cell_type": "code",
   "execution_count": 21,
   "id": "1a38bf3d",
   "metadata": {},
   "outputs": [],
   "source": [
    "indexIVFFlat.add(db_vectors)  # 데이터 추가"
   ]
  },
  {
   "cell_type": "code",
   "execution_count": 22,
   "id": "6d576fef",
   "metadata": {},
   "outputs": [
    {
     "name": "stdout",
     "output_type": "stream",
     "text": [
      "True\n",
      "200\n"
     ]
    }
   ],
   "source": [
    "print(indexIVFFlat.is_trained)   # Index의 훈련 유무 출력(False:훈련 안됨)\n",
    "print(indexIVFFlat.ntotal)       # Index에 들어있는 벡터 수 출력"
   ]
  },
  {
   "cell_type": "code",
   "execution_count": null,
   "id": "ede57b06",
   "metadata": {},
   "outputs": [],
   "source": [
    "#indexIVFFlat.nprobe = 2  # 검색 시 사용할 클러스터 수\n",
    "# 질의 벡터 검색(검색시 사용할 클러스터 수를 선택하지 않으면 default값이 1이므로 1개의 cluster안에서만 찾는다)\n",
    "# 장점 : 빠르다.(하나의 클러스터에서만 찾으므로)\n",
    "# 단점 : 부정확해 진다.(Recall 하강) : 하나의 클러스터에서만 찾으므로로\n",
    "distances_IVF, indices_IVF = indexIVFFlat.search(query_vector, 5) #검색 수행"
   ]
  },
  {
   "cell_type": "code",
   "execution_count": 28,
   "id": "d0235d2e",
   "metadata": {},
   "outputs": [
    {
     "name": "stdout",
     "output_type": "stream",
     "text": [
      "IndexFlatL2 값 비교 index : [[ 16 167 160   8 163]]\n",
      "IndexFlatL2 값 비교 distances : [[17.039015 17.364923 17.437662 17.465065 17.481533]]\n"
     ]
    }
   ],
   "source": [
    "print(f\"IndexFlatL2 값 비교 index : {indices}\")\n",
    "print(f\"IndexFlatL2 값 비교 distances : {distances}\")  "
   ]
  },
  {
   "cell_type": "code",
   "execution_count": null,
   "id": "5679a20e",
   "metadata": {},
   "outputs": [
    {
     "name": "stdout",
     "output_type": "stream",
     "text": [
      "indexIVFFlat 값 비교 index : [[167 181  38 144 170]]\n",
      "indexIVFFlat 값 비교 distances : [[17.364923 17.908379 18.201145 18.350655 19.192142]]\n",
      "[[167 181  38 144 170]]\n"
     ]
    }
   ],
   "source": [
    "print(f\"indexIVFFlat 값 비교 index : {indices_IVF}\")\n",
    "print(f\"indexIVFFlat 값 비교 distances : {distances_IVF}\")"
   ]
  },
  {
   "cell_type": "code",
   "execution_count": 36,
   "id": "2bd863b4",
   "metadata": {},
   "outputs": [],
   "source": [
    "indexIVFFlat.nprobe = 3  # 검색 시 사용할 클러스터 수\n",
    "distances_IVF_n3, indices_IVF_n3 = indexIVFFlat.search(query_vector, 5) #검색 수행"
   ]
  },
  {
   "cell_type": "code",
   "execution_count": 37,
   "id": "eb79e8b2",
   "metadata": {},
   "outputs": [
    {
     "name": "stdout",
     "output_type": "stream",
     "text": [
      "indexIVFFlat_n3 값 비교 index : [[ 16 167 160   8 163]]\n",
      "indexIVFFlat_n3 값 비교 distances : [[17.039015 17.364923 17.437662 17.465065 17.481533]]\n"
     ]
    }
   ],
   "source": [
    "print(f\"indexIVFFlat_n3 값 비교 index : {indices_IVF_n3}\")\n",
    "print(f\"indexIVFFlat_n3 값 비교 distances : {distances_IVF_n3}\")"
   ]
  },
  {
   "cell_type": "code",
   "execution_count": null,
   "id": "458064d8",
   "metadata": {},
   "outputs": [],
   "source": []
  }
 ],
 "metadata": {
  "kernelspec": {
   "display_name": "py31012",
   "language": "python",
   "name": "python3"
  },
  "language_info": {
   "codemirror_mode": {
    "name": "ipython",
    "version": 3
   },
   "file_extension": ".py",
   "mimetype": "text/x-python",
   "name": "python",
   "nbconvert_exporter": "python",
   "pygments_lexer": "ipython3",
   "version": "3.10.12"
  }
 },
 "nbformat": 4,
 "nbformat_minor": 5
}
