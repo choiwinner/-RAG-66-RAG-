{
 "cells": [
  {
   "cell_type": "code",
   "execution_count": 35,
   "id": "425e3906-0b82-4c72-ae0e-9a38d12bd35c",
   "metadata": {
    "scrolled": true
   },
   "outputs": [
    {
     "name": "stdout",
     "output_type": "stream",
     "text": [
      "Collecting langchain_openai\n",
      "  Downloading langchain_openai-0.1.1-py3-none-any.whl.metadata (2.5 kB)\n",
      "Requirement already satisfied: langchain-core<0.2.0,>=0.1.33 in e:\\anaconda3\\envs\\openai\\lib\\site-packages (from langchain_openai) (0.1.40)\n",
      "Requirement already satisfied: openai<2.0.0,>=1.10.0 in e:\\anaconda3\\envs\\openai\\lib\\site-packages (from langchain_openai) (1.14.3)\n",
      "Requirement already satisfied: tiktoken<1,>=0.5.2 in e:\\anaconda3\\envs\\openai\\lib\\site-packages (from langchain_openai) (0.6.0)\n",
      "Requirement already satisfied: PyYAML>=5.3 in e:\\anaconda3\\envs\\openai\\lib\\site-packages (from langchain-core<0.2.0,>=0.1.33->langchain_openai) (6.0.1)\n",
      "Requirement already satisfied: jsonpatch<2.0,>=1.33 in e:\\anaconda3\\envs\\openai\\lib\\site-packages (from langchain-core<0.2.0,>=0.1.33->langchain_openai) (1.33)\n",
      "Requirement already satisfied: langsmith<0.2.0,>=0.1.0 in e:\\anaconda3\\envs\\openai\\lib\\site-packages (from langchain-core<0.2.0,>=0.1.33->langchain_openai) (0.1.38)\n",
      "Requirement already satisfied: packaging<24.0,>=23.2 in e:\\anaconda3\\envs\\openai\\lib\\site-packages (from langchain-core<0.2.0,>=0.1.33->langchain_openai) (23.2)\n",
      "Requirement already satisfied: pydantic<3,>=1 in e:\\anaconda3\\envs\\openai\\lib\\site-packages (from langchain-core<0.2.0,>=0.1.33->langchain_openai) (2.6.4)\n",
      "Requirement already satisfied: tenacity<9.0.0,>=8.1.0 in e:\\anaconda3\\envs\\openai\\lib\\site-packages (from langchain-core<0.2.0,>=0.1.33->langchain_openai) (8.2.3)\n",
      "Requirement already satisfied: anyio<5,>=3.5.0 in e:\\anaconda3\\envs\\openai\\lib\\site-packages (from openai<2.0.0,>=1.10.0->langchain_openai) (4.3.0)\n",
      "Requirement already satisfied: distro<2,>=1.7.0 in e:\\anaconda3\\envs\\openai\\lib\\site-packages (from openai<2.0.0,>=1.10.0->langchain_openai) (1.9.0)\n",
      "Requirement already satisfied: httpx<1,>=0.23.0 in e:\\anaconda3\\envs\\openai\\lib\\site-packages (from openai<2.0.0,>=1.10.0->langchain_openai) (0.27.0)\n",
      "Requirement already satisfied: sniffio in e:\\anaconda3\\envs\\openai\\lib\\site-packages (from openai<2.0.0,>=1.10.0->langchain_openai) (1.3.1)\n",
      "Requirement already satisfied: tqdm>4 in e:\\anaconda3\\envs\\openai\\lib\\site-packages (from openai<2.0.0,>=1.10.0->langchain_openai) (4.66.2)\n",
      "Requirement already satisfied: typing-extensions<5,>=4.7 in e:\\anaconda3\\envs\\openai\\lib\\site-packages (from openai<2.0.0,>=1.10.0->langchain_openai) (4.9.0)\n",
      "Requirement already satisfied: regex>=2022.1.18 in e:\\anaconda3\\envs\\openai\\lib\\site-packages (from tiktoken<1,>=0.5.2->langchain_openai) (2023.12.25)\n",
      "Requirement already satisfied: requests>=2.26.0 in e:\\anaconda3\\envs\\openai\\lib\\site-packages (from tiktoken<1,>=0.5.2->langchain_openai) (2.31.0)\n",
      "Requirement already satisfied: idna>=2.8 in e:\\anaconda3\\envs\\openai\\lib\\site-packages (from anyio<5,>=3.5.0->openai<2.0.0,>=1.10.0->langchain_openai) (3.6)\n",
      "Requirement already satisfied: exceptiongroup>=1.0.2 in e:\\anaconda3\\envs\\openai\\lib\\site-packages (from anyio<5,>=3.5.0->openai<2.0.0,>=1.10.0->langchain_openai) (1.2.0)\n",
      "Requirement already satisfied: certifi in e:\\anaconda3\\envs\\openai\\lib\\site-packages (from httpx<1,>=0.23.0->openai<2.0.0,>=1.10.0->langchain_openai) (2024.2.2)\n",
      "Requirement already satisfied: httpcore==1.* in e:\\anaconda3\\envs\\openai\\lib\\site-packages (from httpx<1,>=0.23.0->openai<2.0.0,>=1.10.0->langchain_openai) (1.0.5)\n",
      "Requirement already satisfied: h11<0.15,>=0.13 in e:\\anaconda3\\envs\\openai\\lib\\site-packages (from httpcore==1.*->httpx<1,>=0.23.0->openai<2.0.0,>=1.10.0->langchain_openai) (0.14.0)\n",
      "Requirement already satisfied: jsonpointer>=1.9 in e:\\anaconda3\\envs\\openai\\lib\\site-packages (from jsonpatch<2.0,>=1.33->langchain-core<0.2.0,>=0.1.33->langchain_openai) (2.4)\n",
      "Requirement already satisfied: orjson<4.0.0,>=3.9.14 in e:\\anaconda3\\envs\\openai\\lib\\site-packages (from langsmith<0.2.0,>=0.1.0->langchain-core<0.2.0,>=0.1.33->langchain_openai) (3.10.0)\n",
      "Requirement already satisfied: annotated-types>=0.4.0 in e:\\anaconda3\\envs\\openai\\lib\\site-packages (from pydantic<3,>=1->langchain-core<0.2.0,>=0.1.33->langchain_openai) (0.6.0)\n",
      "Requirement already satisfied: pydantic-core==2.16.3 in e:\\anaconda3\\envs\\openai\\lib\\site-packages (from pydantic<3,>=1->langchain-core<0.2.0,>=0.1.33->langchain_openai) (2.16.3)\n",
      "Requirement already satisfied: charset-normalizer<4,>=2 in e:\\anaconda3\\envs\\openai\\lib\\site-packages (from requests>=2.26.0->tiktoken<1,>=0.5.2->langchain_openai) (3.3.2)\n",
      "Requirement already satisfied: urllib3<3,>=1.21.1 in e:\\anaconda3\\envs\\openai\\lib\\site-packages (from requests>=2.26.0->tiktoken<1,>=0.5.2->langchain_openai) (2.2.1)\n",
      "Requirement already satisfied: colorama in e:\\anaconda3\\envs\\openai\\lib\\site-packages (from tqdm>4->openai<2.0.0,>=1.10.0->langchain_openai) (0.4.6)\n",
      "Downloading langchain_openai-0.1.1-py3-none-any.whl (32 kB)\n",
      "Installing collected packages: langchain_openai\n",
      "Successfully installed langchain_openai-0.1.1\n"
     ]
    },
    {
     "name": "stderr",
     "output_type": "stream",
     "text": [
      "WARNING: Ignoring invalid distribution -pype1 (c:\\users\\jyseo\\appdata\\roaming\\python\\python38\\site-packages)\n",
      "WARNING: Ignoring invalid distribution -pype1 (c:\\users\\jyseo\\appdata\\roaming\\python\\python38\\site-packages)\n",
      "WARNING: Ignoring invalid distribution -pype1 (c:\\users\\jyseo\\appdata\\roaming\\python\\python38\\site-packages)\n",
      "WARNING: Ignoring invalid distribution -pype1 (c:\\users\\jyseo\\appdata\\roaming\\python\\python38\\site-packages)\n",
      "WARNING: Ignoring invalid distribution -pype1 (c:\\users\\jyseo\\appdata\\roaming\\python\\python38\\site-packages)\n",
      "WARNING: Ignoring invalid distribution -pype1 (c:\\users\\jyseo\\appdata\\roaming\\python\\python38\\site-packages)\n"
     ]
    }
   ],
   "source": [
    "!pip install langchain_openai"
   ]
  },
  {
   "cell_type": "code",
   "execution_count": 38,
   "id": "5bd16fb6-1097-40a3-b786-f6ec4cc2601f",
   "metadata": {},
   "outputs": [
    {
     "name": "stdout",
     "output_type": "stream",
     "text": [
      "Collecting rank_bm25\n",
      "  Downloading rank_bm25-0.2.2-py3-none-any.whl.metadata (3.2 kB)\n",
      "Requirement already satisfied: numpy in e:\\anaconda3\\envs\\openai\\lib\\site-packages (from rank_bm25) (1.24.4)\n",
      "Downloading rank_bm25-0.2.2-py3-none-any.whl (8.6 kB)\n",
      "Installing collected packages: rank_bm25\n",
      "Successfully installed rank_bm25-0.2.2\n"
     ]
    },
    {
     "name": "stderr",
     "output_type": "stream",
     "text": [
      "WARNING: Ignoring invalid distribution -pype1 (c:\\users\\jyseo\\appdata\\roaming\\python\\python38\\site-packages)\n",
      "WARNING: Ignoring invalid distribution -pype1 (c:\\users\\jyseo\\appdata\\roaming\\python\\python38\\site-packages)\n",
      "WARNING: Ignoring invalid distribution -pype1 (c:\\users\\jyseo\\appdata\\roaming\\python\\python38\\site-packages)\n",
      "WARNING: Ignoring invalid distribution -pype1 (c:\\users\\jyseo\\appdata\\roaming\\python\\python38\\site-packages)\n",
      "WARNING: Ignoring invalid distribution -pype1 (c:\\users\\jyseo\\appdata\\roaming\\python\\python38\\site-packages)\n",
      "WARNING: Ignoring invalid distribution -pype1 (c:\\users\\jyseo\\appdata\\roaming\\python\\python38\\site-packages)\n"
     ]
    }
   ],
   "source": [
    "!pip install rank_bm25 #키워드 기반의 랭킹 알고리즘"
   ]
  },
  {
   "cell_type": "code",
   "execution_count": 36,
   "id": "498e9fa3-2f0d-4e3b-b891-64a4e5a62dfe",
   "metadata": {},
   "outputs": [],
   "source": [
    "from langchain.retrievers import EnsembleRetriever # 여러 retriever를 입력으로 받아 처리\n",
    "from langchain_community.retrievers import BM25Retriever  #TF-IDF 계열의 검색 알고리즘\n",
    "from langchain_community.vectorstores import FAISS\n",
    "from langchain_openai import OpenAIEmbeddings"
   ]
  },
  {
   "cell_type": "code",
   "execution_count": 44,
   "id": "e6f995a5-2635-40a0-b09d-8b30cdb927ae",
   "metadata": {},
   "outputs": [],
   "source": [
    "doc_list_1 = [\n",
    "    \"프렌치 불독: 사교적이고 친근한 성격을 가지고 있으며, 조용하고 집에서 지내기에 적합 합니다\",\n",
    "    \"비글: 호기심이 많고, 에너지가 넘치며, 사냥 본능이 강합니다. \",\n",
    "    \"독일 셰퍼드: 용감하고 지능적이며, 충성심이 강합니다\",\n",
    "    \"포메라니안: 활발하고 호기심이 많으며, 주인에게 매우 애정적입니다\",\n",
    "    \"치와와: 작지만 용감하고, 주인에게 깊은 애정을 보입니다\",\n",
    "    \"보더 콜리:\t매우 지능적이고 학습 능력이 뛰어나며, 에너지가 많아 많은 운동이 필요합니다 \"\n",
    "]\n",
    "\n",
    "# initialize the bm25 retriever and faiss retriever\n",
    "bm25_retriever = BM25Retriever.from_texts(\n",
    "    doc_list_1, metadatas=[{\"source\": 1}] * len(doc_list_1)\n",
    ")\n",
    "bm25_retriever.k = 2\n",
    "\n",
    "doc_list_2 = [\n",
    "    \"프렌치 불독: 열에 약하므로 주의가 필요합니다\",\n",
    "    \"비글: 가족과 잘 지내며, 아이들과 노는 것을 좋아합니다.\",\n",
    "    \"독일 셰퍼드: 경찰견이나 구조견으로 많이 활용되며, 적절한 훈련과 운동이 필요합니다.\",\n",
    "    \"포메라니안: 털이 풍성하므로 정기적인 그루밍이 필요합니다.\",\n",
    "    \"치와와: 다른 동물이나 낯선 사람에게는 조심스러울 수 있습니다.\",\n",
    "    \"보더 콜리: 목축견으로서의 본능이 강하며, 다양한 트릭과 명령을 쉽게 배울 수 있습니다.\"\n",
    "]\n",
    "\n",
    "embedding = OpenAIEmbeddings(model=\"text-embedding-ada-002\", openai_api_key=\"sk-\")\n",
    "faiss_vectorstore = FAISS.from_texts(\n",
    "    doc_list_2, embedding, metadatas=[{\"source\": 2}] * len(doc_list_2)\n",
    ")\n",
    "faiss_retriever = faiss_vectorstore.as_retriever(search_kwargs={\"k\": 2})\n",
    "\n",
    "# initialize the ensemble retriever\n",
    "ensemble_retriever = EnsembleRetriever(\n",
    "    retrievers=[bm25_retriever, faiss_retriever], weights=[0.5, 0.5] #retriever 가중치 설정\n",
    ")"
   ]
  },
  {
   "cell_type": "code",
   "execution_count": 46,
   "id": "9250605e-cdd7-4fd6-b561-38d7bbd6dda5",
   "metadata": {},
   "outputs": [
    {
     "name": "stdout",
     "output_type": "stream",
     "text": [
      "[Ensemble Retriever]\n",
      " [Document(page_content='독일 셰퍼드: 용감하고 지능적이며, 충성심이 강합니다', metadata={'source': 1}), Document(page_content='치와와: 다른 동물이나 낯선 사람에게는 조심스러울 수 있습니다.', metadata={'source': 2}), Document(page_content='보더 콜리:\\t매우 지능적이고 학습 능력이 뛰어나며, 에너지가 많아 많은 운동이 필요합니다 ', metadata={'source': 1}), Document(page_content='보더 콜리: 목축견으로서의 본능이 강하며, 다양한 트릭과 명령을 쉽게 배울 수 있습니다.', metadata={'source': 2})]\n",
      "\n",
      "[BM25 Retriever]\n",
      " [Document(page_content='독일 셰퍼드: 용감하고 지능적이며, 충성심이 강합니다', metadata={'source': 1}), Document(page_content='보더 콜리:\\t매우 지능적이고 학습 능력이 뛰어나며, 에너지가 많아 많은 운동이 필요합니다 ', metadata={'source': 1})]\n",
      "\n",
      "[FAISS Retriever]\n",
      " [Document(page_content='치와와: 다른 동물이나 낯선 사람에게는 조심스러울 수 있습니다.', metadata={'source': 2}), Document(page_content='보더 콜리: 목축견으로서의 본능이 강하며, 다양한 트릭과 명령을 쉽게 배울 수 있습니다.', metadata={'source': 2})]\n",
      "\n"
     ]
    }
   ],
   "source": [
    "query = \"충성심이 강한 강아지는?\"\n",
    "ensemble_result = ensemble_retriever.get_relevant_documents(query)\n",
    "bm25_result = bm25_retriever.get_relevant_documents(query)\n",
    "faiss_result = faiss_retriever.get_relevant_documents(query)\n",
    "\n",
    "# 가져온 문서를 출력합니다.\n",
    "print(\"[Ensemble Retriever]\\n\", ensemble_result, end=\"\\n\\n\")\n",
    "print(\"[BM25 Retriever]\\n\", bm25_result, end=\"\\n\\n\")\n",
    "print(\"[FAISS Retriever]\\n\", faiss_result, end=\"\\n\\n\")"
   ]
  },
  {
   "cell_type": "code",
   "execution_count": 47,
   "id": "570ae311-cae0-4e17-81d9-bd1717567185",
   "metadata": {},
   "outputs": [
    {
     "name": "stdout",
     "output_type": "stream",
     "text": [
      "[Ensemble Retriever]\n",
      " [Document(page_content='보더 콜리:\\t매우 지능적이고 학습 능력이 뛰어나며, 에너지가 많아 많은 운동이 필요합니다 ', metadata={'source': 1}), Document(page_content='보더 콜리: 목축견으로서의 본능이 강하며, 다양한 트릭과 명령을 쉽게 배울 수 있습니다.', metadata={'source': 2}), Document(page_content='치와와: 작지만 용감하고, 주인에게 깊은 애정을 보입니다', metadata={'source': 1}), Document(page_content='치와와: 다른 동물이나 낯선 사람에게는 조심스러울 수 있습니다.', metadata={'source': 2})]\n",
      "\n",
      "[BM25 Retriever]\n",
      " [Document(page_content='보더 콜리:\\t매우 지능적이고 학습 능력이 뛰어나며, 에너지가 많아 많은 운동이 필요합니다 ', metadata={'source': 1}), Document(page_content='치와와: 작지만 용감하고, 주인에게 깊은 애정을 보입니다', metadata={'source': 1})]\n",
      "\n",
      "[FAISS Retriever]\n",
      " [Document(page_content='보더 콜리: 목축견으로서의 본능이 강하며, 다양한 트릭과 명령을 쉽게 배울 수 있습니다.', metadata={'source': 2}), Document(page_content='치와와: 다른 동물이나 낯선 사람에게는 조심스러울 수 있습니다.', metadata={'source': 2})]\n",
      "\n"
     ]
    }
   ],
   "source": [
    "query = \"지능적인 강아지는?\"\n",
    "ensemble_result = ensemble_retriever.get_relevant_documents(query)\n",
    "bm25_result = bm25_retriever.get_relevant_documents(query)\n",
    "faiss_result = faiss_retriever.get_relevant_documents(query)\n",
    "\n",
    "# 가져온 문서를 출력합니다.\n",
    "print(\"[Ensemble Retriever]\\n\", ensemble_result, end=\"\\n\\n\")\n",
    "print(\"[BM25 Retriever]\\n\", bm25_result, end=\"\\n\\n\")\n",
    "print(\"[FAISS Retriever]\\n\", faiss_result, end=\"\\n\\n\")"
   ]
  },
  {
   "cell_type": "code",
   "execution_count": null,
   "id": "22d4c0cf-c3c5-46a4-9c15-21107b4f922d",
   "metadata": {},
   "outputs": [],
   "source": []
  }
 ],
 "metadata": {
  "kernelspec": {
   "display_name": "openai_f",
   "language": "python",
   "name": "openai"
  },
  "language_info": {
   "codemirror_mode": {
    "name": "ipython",
    "version": 3
   },
   "file_extension": ".py",
   "mimetype": "text/x-python",
   "name": "python",
   "nbconvert_exporter": "python",
   "pygments_lexer": "ipython3",
   "version": "3.8.19"
  }
 },
 "nbformat": 4,
 "nbformat_minor": 5
}
