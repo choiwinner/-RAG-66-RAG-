{
 "cells": [
  {
   "cell_type": "code",
   "execution_count": 1,
   "id": "0ee9b9c4-4bc0-4d56-babc-2496e657220b",
   "metadata": {},
   "outputs": [],
   "source": [
    "import numpy as np \n",
    "import faiss  # faiss 라이브러리 호출"
   ]
  },
  {
   "cell_type": "code",
   "execution_count": 2,
   "id": "daa378e2-2d5b-4951-a9fc-6b05ebb358e1",
   "metadata": {},
   "outputs": [],
   "source": [
    "dimension = 128    # 각 벡터의 차원                \n",
    "n = 200    # 벡터 수                   \n",
    "np.random.seed(1)             \n",
    "db_vectors = np.random.random((n, dimension)).astype('float32') #(200 * 128) 벡터 행렬"
   ]
  },
  {
   "cell_type": "code",
   "execution_count": 6,
   "id": "835be371-be97-417f-938c-b2d75c983bf8",
   "metadata": {},
   "outputs": [],
   "source": [
    "nlist = 5  # 클러스터(셀이라고도 표현) 수\n",
    "quantiser = faiss.IndexFlatL2(dimension)  #quantizer를 활용해서 클러스터 생성\n",
    "index = faiss.IndexIVFFlat(quantiser, dimension, nlist,   faiss.METRIC_L2)  #Inverted File 만들기\n",
    "#index = faiss.IndexPQ(D, m, nbits)\n",
    "#index = faiss.IndexIVFPQ(vecs, D, nlist, m, nbits)"
   ]
  },
  {
   "cell_type": "code",
   "execution_count": 7,
   "id": "d693fb41-a40c-45ab-b9a1-c1ec88c03873",
   "metadata": {},
   "outputs": [
    {
     "name": "stdout",
     "output_type": "stream",
     "text": [
      "False\n",
      "0\n",
      "True\n",
      "200\n"
     ]
    }
   ],
   "source": [
    "print(index.is_trained)   # False\n",
    "index.train(db_vectors)  # 데이터베이스 벡터에 대한 훈련\n",
    "print(index.ntotal)   \n",
    "index.add(db_vectors)   # 벡터를 추가하고 인덱스를 업데이트\n",
    "print(index.is_trained)  # True\n",
    "print(index.ntotal)   "
   ]
  },
  {
   "cell_type": "code",
   "execution_count": 16,
   "id": "d827cc39-8c57-4abe-8725-6cb58a1bf1ed",
   "metadata": {},
   "outputs": [],
   "source": [
    "#nprobe = 2  # 가장 유사한 클러스터 2개 찾기\n",
    "n_query = 10  # 10개의 쿼리 벡터\n",
    "k = 3  # 가장 가까운 이웃 3개를 반환\n",
    "np.random.seed(1)  # 일관된 결과를 얻기 위해 시드 설정 \n",
    "query_vectors = np.random.random((n_query, dimension)).astype('float32') #쿼리 벡터 생성\n",
    "distances, indices = index.search(query_vectors, k) #검색 수행\n"
   ]
  },
  {
   "cell_type": "code",
   "execution_count": 17,
   "id": "d545709b-5a40-413a-a1c4-08c8211e48ca",
   "metadata": {},
   "outputs": [],
   "source": [
    "faiss.write_index(index,\"vector.index\")  # 인덱스를 디스크에 저장\n",
    "index = faiss.read_index(\"vector.index\")  # 인덱스를 로드"
   ]
  },
  {
   "cell_type": "code",
   "execution_count": null,
   "id": "ebb5bb9f-24d4-4b69-bb54-c0bbb8699cb1",
   "metadata": {},
   "outputs": [],
   "source": []
  }
 ],
 "metadata": {
  "kernelspec": {
   "display_name": "openai_f",
   "language": "python",
   "name": "openai"
  },
  "language_info": {
   "codemirror_mode": {
    "name": "ipython",
    "version": 3
   },
   "file_extension": ".py",
   "mimetype": "text/x-python",
   "name": "python",
   "nbconvert_exporter": "python",
   "pygments_lexer": "ipython3",
   "version": "3.8.19"
  }
 },
 "nbformat": 4,
 "nbformat_minor": 5
}
