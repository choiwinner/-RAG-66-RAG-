{
 "cells": [
  {
   "cell_type": "code",
   "execution_count": 12,
   "id": "496b107c",
   "metadata": {},
   "outputs": [
    {
     "name": "stdout",
     "output_type": "stream",
     "text": [
      "세종대왕과 모나리자는 각각 한국의 역사와 서양의 예술에서 중요한 인물들입니다.\n",
      "\n",
      "세종대왕은 조선 시대의 네 번째 왕으로, 그의 통치 기간 동안 많은 문화적, 과학적 발전이 이루어졌습니다. 그는 훈민정음(현대의 한글)을 창제하여 백성들이 읽고 쓸 수 있게 했습니다. 이로 인해 그는 한국에서 가장 존경받는 왕 중 하나로 여겨집니다.\n",
      "\n",
      "모나리자는 이탈리아의 대표적인 화가 레오나르도 다 빈치가 그린 초상화입니다. 그녀의 미소와 고요한 표정, 그리고 배경의 경치 등이 독특하게 그려져 있어 세계에서 가장 유명한 그림 중 하나입니다. 이 작품은 프랑스 파리의 루브르 박물관에 소장되어 있습니다.\n"
     ]
    }
   ],
   "source": [
    "# temperature을 0으로 설정\n",
    "import openai\n",
    "\n",
    "openai.api_key = 'sk-'  # 여기에 OpenAI API 키를 입력하세요\n",
    "\n",
    "response = openai.ChatCompletion.create(\n",
    "  model=\"gpt-4\",  # 사용할 모델 엔진을 지정합니다. 사용 가능한 최신 엔진 명칭을 확인하세요.\n",
    "  messages=[\n",
    "      {\"role\": \"system\", \"content\": \"You are a helpful assistant.\"},\n",
    "      {\"role\": \"user\", \"content\": \"세종대왕과 모나리자?\"}  # 여기에 질문을 입력하세요.\n",
    "  ],\n",
    "  temperature=0.0  # 여기서 temperature를 지정합니다.\n",
    ")\n",
    "\n",
    "print(response.choices[0].message['content'])  # 생성된 텍스트 출력"
   ]
  },
  {
   "cell_type": "code",
   "execution_count": 18,
   "id": "9b53548d",
   "metadata": {},
   "outputs": [
    {
     "name": "stdout",
     "output_type": "stream",
     "text": [
      "세종대왕과 모나리자는 각각 한국의 역사와 서양의 예술에서 굉장히 중요한 인물이지만, 나름의 분야에서 다른 중요성을 갖고 있습니다.\n",
      "\n",
      "세종대왕은 한국의 조선 시대 중 가장 유명하고 존경 받는 왕 중 하나로, 그의 통치 기간 동안 여러 정치적, 문화적 발전이 있었습니다. 그의 가장 뛰어난 성과 중 하나는 훈민정음(현재 고리오사료라고 불리움)의 창제, 즉 한글의 창조였습니다. 이 그리스어는 한국의 국가 언어로서 현재까지 종국이되었으며, 세종대왕이 한민족의 문해율을 높이고 교육을 촉진하기 위해 이를 도입했다는 점에서 그의 중요성이 강조됩니다.\n",
      "\n",
      "한편, 모나리자는 이탈리아의 대표적인 화가 레오나르도 다 빈치가 그린 초상화로, 그녀의 미물에게서 오는 신비감과 고요함, 그리고 미소 때문에 세계적으로 유명합니다. 이 작품은 촬영 방식, 조명, 그리고 모나리자의 특별한 '눈웃음'과 같은 여러 가지 요소로 인해 예술계에서는 혁신적인 작품으로 인정받았습니다. 이보다는 레오나르도의 다른 많은 작품들과 함께, 그는 이탈리아의 \"르네상스\"의 다재다능한 신화가 되었습니다.\n",
      "\n",
      "따라서 세종대왕과 모나리자는 한국의 역사와 서양의 예술에서 각각 독특한 중요성과 가치를 가지고 있지만, 다른 분야에서의 인물이기 때문에 서로 비교할 수는 없다고 생각함.\n"
     ]
    }
   ],
   "source": [
    "# temperature을 1.1로 설정\n",
    "import openai\n",
    "\n",
    "openai.api_key = 'sk-'  # 여기에 OpenAI API 키를 입력하세요\n",
    "\n",
    "response = openai.ChatCompletion.create(\n",
    "  model=\"gpt-4\",  # 사용할 모델 엔진을 지정합니다. 사용 가능한 최신 엔진 명칭을 확인하세요.\n",
    "  messages=[\n",
    "      {\"role\": \"system\", \"content\": \"You are a helpful assistant.\"},\n",
    "      {\"role\": \"user\", \"content\": \"세종대왕과 모나리자?\"}  # 여기에 질문을 입력하세요.\n",
    "  ],\n",
    "  temperature=1.1  # 여기서 temperature를 지정합니다.\n",
    ")\n",
    "\n",
    "print(response.choices[0].message['content'])  # 생성된 텍스트 출력"
   ]
  },
  {
   "cell_type": "code",
   "execution_count": null,
   "id": "fcbdf088",
   "metadata": {},
   "outputs": [],
   "source": [
    "#0에 가까울수록 모델은 가장 확률이 높은 단어를 선택하는 경향이 강해지므로, 출력이 더 예측 가능하고 결정적(deterministic)이 됩니다. 실제로, temperature를 매우 낮은 값(예: 0.0 또는 그 근처)으로 설정하면, 모델은 주어진 상황에서 가장 가능성이 높은 단어를 반복적으로 선택할 수 있습니다.\n",
    "#1에 가까울수록 모델은 다양한 단어를 선택할 가능성이 높아지며, 생성된 텍스트는 더 창의적이거나 예상치 못한 내용을 포함할 수 있습니다. temperature가 1인 경우, 모델은 학습 데이터에서 관찰된 확률 분포를 그대로 사용하여 다음 단어를 선택합니다.\n",
    "#1보다 큰 값을 사용할 경우, 모델은 더욱 창의적이거나 덜 예측 가능한 출력을 생성할 가능성이 더 높아집니다. 이는 선택 과정에서 낮은 확률을 가진 단어들에게 상대적으로 더 많은 가중치를 부여하기 때문입니다"
   ]
  }
 ],
 "metadata": {
  "kernelspec": {
   "display_name": "openai_f",
   "language": "python",
   "name": "openai"
  },
  "language_info": {
   "codemirror_mode": {
    "name": "ipython",
    "version": 3
   },
   "file_extension": ".py",
   "mimetype": "text/x-python",
   "name": "python",
   "nbconvert_exporter": "python",
   "pygments_lexer": "ipython3",
   "version": "3.8.19"
  }
 },
 "nbformat": 4,
 "nbformat_minor": 5
}
