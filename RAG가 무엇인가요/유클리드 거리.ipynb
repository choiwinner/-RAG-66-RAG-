{
 "cells": [
  {
   "cell_type": "code",
   "execution_count": 1,
   "id": "1436a377-22e9-44d7-b9b8-7c4a96db5961",
   "metadata": {},
   "outputs": [],
   "source": [
    "# 유클리드 거리 구하기"
   ]
  },
  {
   "cell_type": "code",
   "execution_count": 2,
   "id": "65a8da5a-0bca-4f32-a3ed-475427a1cf0b",
   "metadata": {},
   "outputs": [],
   "source": [
    "#1. NumPy 모듈 사용\n",
    "#2. distance.euclidean() 함수 사용\n",
    "#3. math.dist() 함수 사용"
   ]
  },
  {
   "cell_type": "code",
   "execution_count": 3,
   "id": "eb088d19-99f4-4454-a858-43a2f74bd59d",
   "metadata": {},
   "outputs": [
    {
     "name": "stdout",
     "output_type": "stream",
     "text": [
      "5.196152422706632\n"
     ]
    }
   ],
   "source": [
    "#1번 실행 - norm() 함수 이용\n",
    "import numpy as np\n",
    "\n",
    "a = np.array((1, 2, 3))\n",
    "b = np.array((4, 5, 6))\n",
    "\n",
    "dist = np.linalg.norm(a - b)\n",
    "\n",
    "print(dist)"
   ]
  },
  {
   "cell_type": "code",
   "execution_count": 4,
   "id": "47712685-f6a0-4e1e-8fa3-2ad606277c4a",
   "metadata": {},
   "outputs": [
    {
     "name": "stdout",
     "output_type": "stream",
     "text": [
      "5.196152422706632\n"
     ]
    }
   ],
   "source": [
    "#NumPy 모듈로 수학 공식 그대로 적용\n",
    "import numpy as np\n",
    "\n",
    "a = np.array((1, 2, 3))\n",
    "b = np.array((4, 5, 6))\n",
    "# numpy.sum() 함수: 항목의 합계 반환\n",
    "# numpy.square() 함수: 항목의 제곱을 반환\n",
    "dist = np.sqrt(np.sum(np.square(a - b))) \n",
    "\n",
    "print(dist)"
   ]
  },
  {
   "cell_type": "code",
   "execution_count": 5,
   "id": "1f42272d-616f-478f-8fb0-19967bd19694",
   "metadata": {},
   "outputs": [
    {
     "name": "stdout",
     "output_type": "stream",
     "text": [
      "5.196152422706632\n"
     ]
    }
   ],
   "source": [
    "#NumPy 모듈로 수학 공식 그대로 적용\n",
    "import numpy as np\n",
    "\n",
    "a = np.array((1, 2, 3))\n",
    "b = np.array((4, 5, 6))\n",
    "\n",
    "temp = a - b\n",
    "dist = np.sqrt(np.dot(temp.T, temp))\n",
    "\n",
    "print(dist)"
   ]
  },
  {
   "cell_type": "code",
   "execution_count": 6,
   "id": "93784acb-c0af-4293-881b-68cb13c6d237",
   "metadata": {},
   "outputs": [
    {
     "name": "stdout",
     "output_type": "stream",
     "text": [
      "5.196152422706632\n"
     ]
    }
   ],
   "source": [
    "#2. distance.euclidean() 함수 사용\n",
    "from scipy.spatial import distance\n",
    "\n",
    "a = (1, 2, 3)\n",
    "b = (4, 5, 6)\n",
    "\n",
    "print(distance.euclidean(a, b))"
   ]
  },
  {
   "cell_type": "code",
   "execution_count": 7,
   "id": "ed36b158-1519-4981-856c-274e7ff526b5",
   "metadata": {},
   "outputs": [
    {
     "name": "stdout",
     "output_type": "stream",
     "text": [
      "5.196152422706632\n"
     ]
    }
   ],
   "source": [
    "#3. math.dist() 함수 사용\n",
    "from math import dist\n",
    "\n",
    "a = (1, 2, 3)\n",
    "b = (4, 5, 6)\n",
    "\n",
    "print(dist(a, b))"
   ]
  },
  {
   "cell_type": "code",
   "execution_count": null,
   "id": "12199fba-b7ca-40e4-a38d-24c3eef2f884",
   "metadata": {},
   "outputs": [],
   "source": []
  }
 ],
 "metadata": {
  "kernelspec": {
   "display_name": "openai_f",
   "language": "python",
   "name": "openai"
  },
  "language_info": {
   "codemirror_mode": {
    "name": "ipython",
    "version": 3
   },
   "file_extension": ".py",
   "mimetype": "text/x-python",
   "name": "python",
   "nbconvert_exporter": "python",
   "pygments_lexer": "ipython3",
   "version": "3.8.19"
  }
 },
 "nbformat": 4,
 "nbformat_minor": 5
}
