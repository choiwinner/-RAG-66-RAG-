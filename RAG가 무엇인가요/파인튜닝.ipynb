{
 "cells": [
  {
   "cell_type": "code",
   "execution_count": 1,
   "id": "8d04b8e5-7ed9-4e73-90f2-b8f47c06b49c",
   "metadata": {},
   "outputs": [],
   "source": [
    "import json\n",
    "#import openai"
   ]
  },
  {
   "cell_type": "code",
   "execution_count": 2,
   "id": "d134e38d-89f8-4110-8d04-69dc24769055",
   "metadata": {},
   "outputs": [],
   "source": [
    "training_data = [{\"prompt\": \"빨강이\", \"completion\": \"Data Scientist\"},\n",
    "{\"prompt\": \"주황이\", \"completion\": \"Developer\"},\n",
    "{\"prompt\": \"노랑이\", \"completion\": \"Developer\"},\n",
    "{\"prompt\": \"초록이\", \"completion\": \"Developer\"},\n",
    "{\"prompt\": \"파랑이\", \"completion\": \"Developer\"},\n",
    "{\"prompt\": \"검둥이\", \"completion\": \"Data Scientist\"},\n",
    "{\"prompt\": \"보랑이\", \"completion\": \"Developer\"},\n",
    "{\"prompt\": \"남둥이\", \"completion\": \"Developer\"},\n",
    "{\"prompt\": \"하늘이\", \"completion\": \"Data Scientist\"},\n",
    "{\"prompt\": \"개나리\", \"completion\": \"Data Scientist\"}]\n"
   ]
  },
  {
   "cell_type": "code",
   "execution_count": 3,
   "id": "954ff963-2f40-47e1-9e84-fdcac88900a2",
   "metadata": {},
   "outputs": [],
   "source": [
    "file_name = \"training_data.jsonl\"\n",
    "\n",
    "with open(file_name, \"w\", encoding=\"utf-8\") as output_file:\n",
    " for entry in training_data:\n",
    "  json.dump(entry, output_file)\n",
    "  output_file.write(\"\\n\")"
   ]
  },
  {
   "cell_type": "code",
   "execution_count": 4,
   "id": "a55818de-af58-4e17-91c6-13b0b6f553e9",
   "metadata": {},
   "outputs": [],
   "source": [
    "from openai import OpenAI\n",
    "# API 키를 제공하여 OpenAI 클라이언트를 생성\n",
    "client = OpenAI(\n",
    "  api_key=\"sk-\"\n",
    ")\n",
    "#fine-tune'목적으로 파일 업로드\n",
    "upload_response = client.files.create(\n",
    "  file=open(file_name, \"rb\"),\n",
    "  purpose='fine-tune'\n",
    ")\n"
   ]
  },
  {
   "cell_type": "code",
   "execution_count": 5,
   "id": "ce352b54-92f1-497c-bdc2-e74e8443cc20",
   "metadata": {},
   "outputs": [],
   "source": [
    "#file_id는 https://platform.openai.com/storage/files/file-zKUjo5EIarZZMfgHyBZwbidn 에서도 확인 가능\n",
    "file_id = upload_response.id"
   ]
  },
  {
   "cell_type": "code",
   "execution_count": 6,
   "id": "8925f1f7-4906-4e23-97a6-34b4ca8feee6",
   "metadata": {},
   "outputs": [
    {
     "data": {
      "text/plain": [
       "FineTuningJob(id='ftjob-JsZlMNTyVhHjcipthrqtXVR1', created_at=1712417088, error=Error(code=None, message=None, param=None, error=None), fine_tuned_model=None, finished_at=None, hyperparameters=Hyperparameters(n_epochs='auto', batch_size='auto', learning_rate_multiplier='auto'), model='davinci-002', object='fine_tuning.job', organization_id='org-ROX9UxzRMlH53tloJ7WQIKqP', result_files=[], status='validating_files', trained_tokens=None, training_file='file-6sTlbQ9yXmCF3Qh8mjfAcvEv', validation_file=None, user_provided_suffix=None, seed=1670214070, integrations=[])"
      ]
     },
     "execution_count": 6,
     "metadata": {},
     "output_type": "execute_result"
    }
   ],
   "source": [
    "#fine-tuning 모델 생성\n",
    "fine_tune_response = client.fine_tuning.jobs.create(\n",
    "      training_file=file_id,\n",
    "      model=\"davinci-002\"\n",
    ")\n",
    "\n",
    "fine_tune_response"
   ]
  },
  {
   "cell_type": "code",
   "execution_count": 10,
   "id": "8ce726f2-7d84-48d5-a86b-5f00770bb742",
   "metadata": {},
   "outputs": [
    {
     "data": {
      "text/plain": [
       "FineTuningJob(id='ftjob-JsZlMNTyVhHjcipthrqtXVR1', created_at=1712417088, error=Error(code=None, message=None, param=None, error=None), fine_tuned_model='ft:davinci-002:personal::9B2EojTR', finished_at=1712417237, hyperparameters=Hyperparameters(n_epochs=10, batch_size=1, learning_rate_multiplier=16), model='davinci-002', object='fine_tuning.job', organization_id='org-ROX9UxzRMlH53tloJ7WQIKqP', result_files=['file-GQRUA7iHvlfooZYMgBLObAfi'], status='succeeded', trained_tokens=600, training_file='file-6sTlbQ9yXmCF3Qh8mjfAcvEv', validation_file=None, user_provided_suffix=None, seed=1670214070, integrations=[])"
      ]
     },
     "execution_count": 10,
     "metadata": {},
     "output_type": "execute_result"
    }
   ],
   "source": [
    "#fine-tuning job 리스트 10개 나열\n",
    "client.fine_tuning.jobs.list(limit=10)\n",
    "\n",
    "#fine-tuning 상태 확인\n",
    "client.fine_tuning.jobs.retrieve(\"ftjob-JsZlMNTyVhHjcipthrqtXVR1\") "
   ]
  },
  {
   "cell_type": "code",
   "execution_count": 11,
   "id": "8c0a0cc9-ff62-495a-8c11-1d639cff83b7",
   "metadata": {},
   "outputs": [
    {
     "data": {
      "text/plain": [
       "SyncCursorPage[FineTuningJobEvent](data=[FineTuningJobEvent(id='ftevent-9mUGX3CYur6XKRjAvo6Ahn6h', created_at=1712417242, level='info', message='The job has successfully completed', object='fine_tuning.job.event', data={}, type='message'), FineTuningJobEvent(id='ftevent-qR2pXxD4doaBZzRRq8jKz91A', created_at=1712417241, level='info', message='Checkpoint created at step 100 with Snapshot ID: ft:davinci-002:personal::9B2Er1Cp:ckpt-step-100', object='fine_tuning.job.event', data={}, type='message'), FineTuningJobEvent(id='ftevent-W4VVrpnBavF2644LpYqQsqxk', created_at=1712417241, level='info', message='Checkpoint created at step 90 with Snapshot ID: ft:davinci-002:personal::9B2ErWer:ckpt-step-90', object='fine_tuning.job.event', data={}, type='message'), FineTuningJobEvent(id='ftevent-d4759jYBnPGRuLKBuMJtmxp7', created_at=1712417241, level='info', message='Checkpoint created at step 80 with Snapshot ID: ft:davinci-002:personal::9B2Er18g:ckpt-step-80', object='fine_tuning.job.event', data={}, type='message'), FineTuningJobEvent(id='ftevent-Ike13SwcSVe2ue6URp9ZAMjx', created_at=1712417238, level='info', message='New fine-tuned model created: ft:davinci-002:personal::9B2EojTR', object='fine_tuning.job.event', data={}, type='message'), FineTuningJobEvent(id='ftevent-Zpp5gbMSbE64rb2LGOIDIm6S', created_at=1712417234, level='info', message='Step 100/100: training loss=0.00', object='fine_tuning.job.event', data={'step': 100, 'train_loss': 0.0, 'total_steps': 100, 'train_mean_token_accuracy': 1.0}, type='metrics'), FineTuningJobEvent(id='ftevent-b2HVQOlsE25usBcbtVyU0UPi', created_at=1712417232, level='info', message='Step 99/100: training loss=0.00', object='fine_tuning.job.event', data={'step': 99, 'train_loss': 0.0, 'total_steps': 100, 'train_mean_token_accuracy': 1.0}, type='metrics'), FineTuningJobEvent(id='ftevent-sxaiEuv7NuKPQNwZPwsDVqwf', created_at=1712417232, level='info', message='Step 98/100: training loss=0.00', object='fine_tuning.job.event', data={'step': 98, 'train_loss': 1.954994149855338e-05, 'total_steps': 100, 'train_mean_token_accuracy': 1.0}, type='metrics'), FineTuningJobEvent(id='ftevent-rIfvQKeRrYYW2p2sxRLvnK6n', created_at=1712417232, level='info', message='Step 97/100: training loss=0.00', object='fine_tuning.job.event', data={'step': 97, 'train_loss': 0.0, 'total_steps': 100, 'train_mean_token_accuracy': 1.0}, type='metrics'), FineTuningJobEvent(id='ftevent-sQWJVa4M8AIDIhyUG7EPRLCp', created_at=1712417232, level='info', message='Step 96/100: training loss=0.00', object='fine_tuning.job.event', data={'step': 96, 'train_loss': 5.9604641222676946e-08, 'total_steps': 100, 'train_mean_token_accuracy': 1.0}, type='metrics'), FineTuningJobEvent(id='ftevent-nrXX4kwIsTKgay1eu5l3XmZK', created_at=1712417232, level='info', message='Step 95/100: training loss=0.00', object='fine_tuning.job.event', data={'step': 95, 'train_loss': 0.0, 'total_steps': 100, 'train_mean_token_accuracy': 1.0}, type='metrics'), FineTuningJobEvent(id='ftevent-GGDQkfe1mD7vhawCBETdhH8k', created_at=1712417232, level='info', message='Step 94/100: training loss=0.00', object='fine_tuning.job.event', data={'step': 94, 'train_loss': 0.0, 'total_steps': 100, 'train_mean_token_accuracy': 1.0}, type='metrics'), FineTuningJobEvent(id='ftevent-yhxLgL9fz0huYn3wnq5RSUZV', created_at=1712417232, level='info', message='Step 93/100: training loss=0.00', object='fine_tuning.job.event', data={'step': 93, 'train_loss': 0.0, 'total_steps': 100, 'train_mean_token_accuracy': 1.0}, type='metrics'), FineTuningJobEvent(id='ftevent-Ghpld5zFiDGLeAcNi0fjXOTb', created_at=1712417230, level='info', message='Step 92/100: training loss=0.00', object='fine_tuning.job.event', data={'step': 92, 'train_loss': 0.0, 'total_steps': 100, 'train_mean_token_accuracy': 1.0}, type='metrics'), FineTuningJobEvent(id='ftevent-oDEnaeKbJwTPtCgiQfPQSVES', created_at=1712417230, level='info', message='Step 91/100: training loss=0.00', object='fine_tuning.job.event', data={'step': 91, 'train_loss': 0.0, 'total_steps': 100, 'train_mean_token_accuracy': 1.0}, type='metrics'), FineTuningJobEvent(id='ftevent-TbLw5W4bsLRkLy3DXbbY1fHE', created_at=1712417230, level='info', message='Step 90/100: training loss=0.00', object='fine_tuning.job.event', data={'step': 90, 'train_loss': 0.0, 'total_steps': 100, 'train_mean_token_accuracy': 1.0}, type='metrics'), FineTuningJobEvent(id='ftevent-fIe9ZGuoDdibJmiz8iFCES6W', created_at=1712417227, level='info', message='Step 89/100: training loss=0.00', object='fine_tuning.job.event', data={'step': 89, 'train_loss': 0.0, 'total_steps': 100, 'train_mean_token_accuracy': 1.0}, type='metrics'), FineTuningJobEvent(id='ftevent-LiQLJ7MUi97IKn5bOpseCN4y', created_at=1712417227, level='info', message='Step 88/100: training loss=0.00', object='fine_tuning.job.event', data={'step': 88, 'train_loss': 0.0, 'total_steps': 100, 'train_mean_token_accuracy': 1.0}, type='metrics'), FineTuningJobEvent(id='ftevent-5B8bLDRHHbvgbHk7UWLEz4X2', created_at=1712417227, level='info', message='Step 87/100: training loss=0.00', object='fine_tuning.job.event', data={'step': 87, 'train_loss': 0.0, 'total_steps': 100, 'train_mean_token_accuracy': 1.0}, type='metrics'), FineTuningJobEvent(id='ftevent-ymZukaLRevqHbpuq8dEOcuGR', created_at=1712417227, level='info', message='Step 86/100: training loss=0.00', object='fine_tuning.job.event', data={'step': 86, 'train_loss': 0.0, 'total_steps': 100, 'train_mean_token_accuracy': 1.0}, type='metrics')], object='list', has_more=True)"
      ]
     },
     "execution_count": 11,
     "metadata": {},
     "output_type": "execute_result"
    }
   ],
   "source": [
    "#fine-tuning job에서 10개의 이벤트 나열\n",
    "fine_tune_events = client.fine_tuning.jobs.list_events(fine_tuning_job_id=fine_tune_response.id)\n",
    "fine_tune_events"
   ]
  },
  {
   "cell_type": "code",
   "execution_count": 23,
   "id": "67a44b2f-fbc8-4230-83c8-837c83e74a10",
   "metadata": {},
   "outputs": [
    {
     "name": "stdout",
     "output_type": "stream",
     "text": [
      "DeveloperDeveloperDeveloperDeveloperDeveloperDeveloperDeveloperDeveloperDeveloperDeveloperDeveloperDeveloperDeveloperDeveloperDeveloperDeveloper\n"
     ]
    }
   ],
   "source": [
    "#fine-tuning한 모델 사용하기\n",
    "completion = client.completions.create(\n",
    "    model=\"ft:davinci-002:personal::9B2EojTR\",\n",
    "    prompt=\"주황이는?\")\n",
    "print(completion.choices[0].text)"
   ]
  },
  {
   "cell_type": "code",
   "execution_count": 28,
   "id": "39382a7b-0383-4f72-af0e-c4dea06b1f82",
   "metadata": {},
   "outputs": [
    {
     "name": "stdout",
     "output_type": "stream",
     "text": [
      "DeveloperDeveloperDeveloperDeveloperDeveloperData ScientistDeveloperDeveloperDeveloperDeveloperDeveloperDeveloperDeveloperDeveloperDeveloper\n"
     ]
    }
   ],
   "source": [
    "#fine-tuning한 모델 사용하기\n",
    "completion = client.completions.create(\n",
    "    model=\"ft:davinci-002:personal::9B2EojTR\",\n",
    "    prompt=\"개나리는?\")\n",
    "print(completion.choices[0].text)"
   ]
  },
  {
   "cell_type": "code",
   "execution_count": null,
   "id": "399e6201-1ada-416d-a54f-24ea03f5c9c2",
   "metadata": {},
   "outputs": [],
   "source": []
  },
  {
   "cell_type": "code",
   "execution_count": null,
   "id": "0e48a498-72b6-434d-9cdf-d0da28d7c455",
   "metadata": {},
   "outputs": [],
   "source": []
  }
 ],
 "metadata": {
  "kernelspec": {
   "display_name": "openai_f",
   "language": "python",
   "name": "openai"
  },
  "language_info": {
   "codemirror_mode": {
    "name": "ipython",
    "version": 3
   },
   "file_extension": ".py",
   "mimetype": "text/x-python",
   "name": "python",
   "nbconvert_exporter": "python",
   "pygments_lexer": "ipython3",
   "version": "3.8.19"
  }
 },
 "nbformat": 4,
 "nbformat_minor": 5
}
