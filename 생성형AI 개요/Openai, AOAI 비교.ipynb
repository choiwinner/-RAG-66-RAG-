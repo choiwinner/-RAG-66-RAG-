{
 "cells": [
  {
   "cell_type": "code",
   "execution_count": 8,
   "id": "3f42be14",
   "metadata": {},
   "outputs": [],
   "source": [
    "#OpenAI API Key 이용 방법"
   ]
  },
  {
   "cell_type": "code",
   "execution_count": null,
   "id": "297df6b6",
   "metadata": {},
   "outputs": [],
   "source": [
    "#!pip uninstall -y openai"
   ]
  },
  {
   "cell_type": "code",
   "execution_count": null,
   "id": "25a108a5",
   "metadata": {},
   "outputs": [],
   "source": [
    "#!pip install openai"
   ]
  },
  {
   "cell_type": "code",
   "execution_count": 7,
   "id": "e3841ebe",
   "metadata": {},
   "outputs": [],
   "source": [
    "import os\n",
    "from openai import OpenAI\n",
    "client = OpenAI(\n",
    "    api_key=\"sk-\",\n",
    ")"
   ]
  },
  {
   "cell_type": "code",
   "execution_count": 9,
   "id": "e76444e4",
   "metadata": {},
   "outputs": [],
   "source": [
    "#Azure OpenAI API Key 이용 방법"
   ]
  },
  {
   "cell_type": "code",
   "execution_count": 25,
   "id": "a47a5917",
   "metadata": {
    "scrolled": true
   },
   "outputs": [
    {
     "name": "stdout",
     "output_type": "stream",
     "text": [
      "Collecting azure-identity>=1.15.0\n",
      "  Downloading azure_identity-1.15.0-py3-none-any.whl.metadata (75 kB)\n",
      "     ---------------------------------------- 0.0/75.4 kB ? eta -:--:--\n",
      "     ---------------------------------------- 75.4/75.4 kB 2.1 MB/s eta 0:00:00\n",
      "Collecting azure-core<2.0.0,>=1.23.0 (from azure-identity>=1.15.0)\n",
      "  Downloading azure_core-1.30.1-py3-none-any.whl.metadata (37 kB)\n",
      "Collecting cryptography>=2.5 (from azure-identity>=1.15.0)\n",
      "  Downloading cryptography-42.0.5-cp37-abi3-win_amd64.whl.metadata (5.4 kB)\n",
      "Collecting msal<2.0.0,>=1.24.0 (from azure-identity>=1.15.0)\n",
      "  Downloading msal-1.28.0-py3-none-any.whl.metadata (11 kB)\n",
      "Collecting msal-extensions<2.0.0,>=0.3.0 (from azure-identity>=1.15.0)\n",
      "  Downloading msal_extensions-1.1.0-py3-none-any.whl.metadata (7.7 kB)\n",
      "Requirement already satisfied: requests>=2.21.0 in e:\\anaconda3\\envs\\llm\\lib\\site-packages (from azure-core<2.0.0,>=1.23.0->azure-identity>=1.15.0) (2.31.0)\n",
      "Requirement already satisfied: six>=1.11.0 in e:\\anaconda3\\envs\\llm\\lib\\site-packages (from azure-core<2.0.0,>=1.23.0->azure-identity>=1.15.0) (1.16.0)\n",
      "Requirement already satisfied: typing-extensions>=4.6.0 in e:\\anaconda3\\envs\\llm\\lib\\site-packages (from azure-core<2.0.0,>=1.23.0->azure-identity>=1.15.0) (4.9.0)\n",
      "Collecting cffi>=1.12 (from cryptography>=2.5->azure-identity>=1.15.0)\n",
      "  Downloading cffi-1.16.0-cp38-cp38-win_amd64.whl.metadata (1.5 kB)\n",
      "Collecting PyJWT<3,>=1.0.0 (from PyJWT[crypto]<3,>=1.0.0->msal<2.0.0,>=1.24.0->azure-identity>=1.15.0)\n",
      "  Downloading PyJWT-2.8.0-py3-none-any.whl.metadata (4.2 kB)\n",
      "Requirement already satisfied: packaging in e:\\anaconda3\\envs\\llm\\lib\\site-packages (from msal-extensions<2.0.0,>=0.3.0->azure-identity>=1.15.0) (23.2)\n",
      "Requirement already satisfied: portalocker<3,>=1.6 in e:\\anaconda3\\envs\\llm\\lib\\site-packages (from msal-extensions<2.0.0,>=0.3.0->azure-identity>=1.15.0) (2.8.2)\n",
      "Collecting pycparser (from cffi>=1.12->cryptography>=2.5->azure-identity>=1.15.0)\n",
      "  Downloading pycparser-2.21-py2.py3-none-any.whl.metadata (1.1 kB)\n",
      "Requirement already satisfied: pywin32>=226 in e:\\anaconda3\\envs\\llm\\lib\\site-packages (from portalocker<3,>=1.6->msal-extensions<2.0.0,>=0.3.0->azure-identity>=1.15.0) (306)\n",
      "Requirement already satisfied: charset-normalizer<4,>=2 in e:\\anaconda3\\envs\\llm\\lib\\site-packages (from requests>=2.21.0->azure-core<2.0.0,>=1.23.0->azure-identity>=1.15.0) (2.0.4)\n",
      "Requirement already satisfied: idna<4,>=2.5 in e:\\anaconda3\\envs\\llm\\lib\\site-packages (from requests>=2.21.0->azure-core<2.0.0,>=1.23.0->azure-identity>=1.15.0) (3.4)\n",
      "Requirement already satisfied: urllib3<3,>=1.21.1 in e:\\anaconda3\\envs\\llm\\lib\\site-packages (from requests>=2.21.0->azure-core<2.0.0,>=1.23.0->azure-identity>=1.15.0) (1.26.18)\n",
      "Requirement already satisfied: certifi>=2017.4.17 in e:\\anaconda3\\envs\\llm\\lib\\site-packages (from requests>=2.21.0->azure-core<2.0.0,>=1.23.0->azure-identity>=1.15.0) (2023.11.17)\n",
      "Downloading azure_identity-1.15.0-py3-none-any.whl (164 kB)\n",
      "   ---------------------------------------- 0.0/164.7 kB ? eta -:--:--\n",
      "   --------------------------------------- 164.7/164.7 kB 10.3 MB/s eta 0:00:00\n",
      "Downloading azure_core-1.30.1-py3-none-any.whl (193 kB)\n",
      "   ---------------------------------------- 0.0/193.4 kB ? eta -:--:--\n",
      "   ---------------------------------------- 193.4/193.4 kB 5.9 MB/s eta 0:00:00\n",
      "Downloading cryptography-42.0.5-cp37-abi3-win_amd64.whl (2.9 MB)\n",
      "   ---------------------------------------- 0.0/2.9 MB ? eta -:--:--\n",
      "   --------- ------------------------------ 0.7/2.9 MB 14.6 MB/s eta 0:00:01\n",
      "   ------------------- -------------------- 1.4/2.9 MB 12.7 MB/s eta 0:00:01\n",
      "   -------------------------- ------------- 1.9/2.9 MB 12.4 MB/s eta 0:00:01\n",
      "   ---------------------------------- ----- 2.5/2.9 MB 12.2 MB/s eta 0:00:01\n",
      "   ---------------------------------------  2.9/2.9 MB 12.2 MB/s eta 0:00:01\n",
      "   ---------------------------------------- 2.9/2.9 MB 10.8 MB/s eta 0:00:00\n",
      "Downloading msal-1.28.0-py3-none-any.whl (102 kB)\n",
      "   ---------------------------------------- 0.0/102.2 kB ? eta -:--:--\n",
      "   ---------------------------------------- 102.2/102.2 kB 5.7 MB/s eta 0:00:00\n",
      "Downloading msal_extensions-1.1.0-py3-none-any.whl (19 kB)\n",
      "Downloading cffi-1.16.0-cp38-cp38-win_amd64.whl (181 kB)\n",
      "   ---------------------------------------- 0.0/181.4 kB ? eta -:--:--\n",
      "   --------------------------------------- 181.4/181.4 kB 11.4 MB/s eta 0:00:00\n",
      "Downloading PyJWT-2.8.0-py3-none-any.whl (22 kB)\n",
      "Downloading pycparser-2.21-py2.py3-none-any.whl (118 kB)\n",
      "   ---------------------------------------- 0.0/118.7 kB ? eta -:--:--\n",
      "   ---------------------------------------- 118.7/118.7 kB 3.5 MB/s eta 0:00:00\n",
      "Installing collected packages: PyJWT, pycparser, cffi, azure-core, cryptography, msal, msal-extensions, azure-identity\n",
      "Successfully installed PyJWT-2.8.0 azure-core-1.30.1 azure-identity-1.15.0 cffi-1.16.0 cryptography-42.0.5 msal-1.28.0 msal-extensions-1.1.0 pycparser-2.21\n"
     ]
    },
    {
     "name": "stderr",
     "output_type": "stream",
     "text": [
      "WARNING: Ignoring invalid distribution -pype1 (c:\\users\\jyseo\\appdata\\roaming\\python\\python38\\site-packages)\n",
      "WARNING: Ignoring invalid distribution -pype1 (c:\\users\\jyseo\\appdata\\roaming\\python\\python38\\site-packages)\n",
      "WARNING: Ignoring invalid distribution -pype1 (c:\\users\\jyseo\\appdata\\roaming\\python\\python38\\site-packages)\n",
      "WARNING: Ignoring invalid distribution -pype1 (c:\\users\\jyseo\\appdata\\roaming\\python\\python38\\site-packages)\n",
      "WARNING: Ignoring invalid distribution -pype1 (c:\\users\\jyseo\\appdata\\roaming\\python\\python38\\site-packages)\n",
      "WARNING: Ignoring invalid distribution -pype1 (c:\\users\\jyseo\\appdata\\roaming\\python\\python38\\site-packages)\n"
     ]
    }
   ],
   "source": [
    "!pip install \"azure-identity>=1.15.0\""
   ]
  },
  {
   "cell_type": "code",
   "execution_count": 27,
   "id": "6e07445c",
   "metadata": {},
   "outputs": [],
   "source": [
    "use_azure_active_directory = False"
   ]
  },
  {
   "cell_type": "code",
   "execution_count": null,
   "id": "4657bc1f",
   "metadata": {},
   "outputs": [],
   "source": [
    "credential = DefaultAzureCredential(exclude_shared_token_cache_credential=True)\n",
    "subscription_id=\"\" # <-- Subscription ID 입력\n",
    "resource_group=\"\" # <-- Resource Group명 입력\n",
    "workspace_name=\"\" # <-- workspace명 입력\n",
    "ml_client = MLClient(credential, subscription_id, resource_group, workspace_name)"
   ]
  },
  {
   "cell_type": "code",
   "execution_count": 28,
   "id": "f0e8eba2",
   "metadata": {},
   "outputs": [],
   "source": [
    "from azure.identity import DefaultAzureCredential, get_bearer_token_provider\n",
    "\n",
    "if use_azure_active_directory:\n",
    "    endpoint = os.environ[\"\"] # <-- Azure OpenAI Endpoint 입력\n",
    "    api_key = os.environ[\"\"] # <-- Azure에서 제공하는 API Key 입력\n",
    "\n",
    "    client = openai.AzureOpenAI(\n",
    "        azure_endpoint=endpoint,\n",
    "        azure_ad_token_provider=get_bearer_token_provider(DefaultAzureCredential(), \"https://cognitiveservices.azure.com/.default\"),\n",
    "        api_version=\"2024-02-15-preview\"\n",
    "    )"
   ]
  },
  {
   "cell_type": "code",
   "execution_count": null,
   "id": "301fa4f5",
   "metadata": {},
   "outputs": [],
   "source": [
    "#OpenAI 인증"
   ]
  },
  {
   "cell_type": "code",
   "execution_count": 27,
   "id": "41cb03dd",
   "metadata": {},
   "outputs": [],
   "source": [
    "import os\n",
    "from openai import OpenAI\n",
    "\n",
    "client = OpenAI(\n",
    "    api_key=\"sk-\"\n",
    ")"
   ]
  },
  {
   "cell_type": "code",
   "execution_count": 32,
   "id": "2744b65f",
   "metadata": {},
   "outputs": [],
   "source": [
    "#Azure OpenAI 인증"
   ]
  },
  {
   "cell_type": "code",
   "execution_count": 9,
   "id": "7eff714a",
   "metadata": {},
   "outputs": [],
   "source": [
    "from azure.identity import DefaultAzureCredential, get_bearer_token_provider\n",
    "from openai import AzureOpenAI\n",
    "\n",
    "token_provider = get_bearer_token_provider(\n",
    "    DefaultAzureCredential(), \"https://cognitiveservices.azure.com/.default\"\n",
    ")\n",
    "\n",
    "api_version = \"2024-02-15-preview\"\n",
    "endpoint = \"\"\n",
    "\n",
    "client = AzureOpenAI(\n",
    "    api_version=api_version,\n",
    "    azure_endpoint=endpoint,\n",
    "    azure_ad_token_provider=token_provider,\n",
    ")"
   ]
  },
  {
   "cell_type": "code",
   "execution_count": 35,
   "id": "2861e1dc",
   "metadata": {},
   "outputs": [],
   "source": [
    "#OpenAI 모델의 키워드 인수"
   ]
  },
  {
   "cell_type": "code",
   "execution_count": 42,
   "id": "d046020d",
   "metadata": {},
   "outputs": [],
   "source": [
    "chat_completion = client.chat.completions.create(\n",
    "    messages=[\n",
    "        {\n",
    "            \"role\": \"user\",\n",
    "            \"content\": \"Say this is a test\",\n",
    "        }\n",
    "    ],\n",
    "    model=\"gpt-3.5-turbo\",\n",
    ")"
   ]
  },
  {
   "cell_type": "code",
   "execution_count": 43,
   "id": "8d16e076",
   "metadata": {},
   "outputs": [],
   "source": [
    "embedding = client.embeddings.create(\n",
    "    model=\"text-embedding-ada-002\",\n",
    "    input=\"<input>\"\n",
    ")"
   ]
  },
  {
   "cell_type": "code",
   "execution_count": 45,
   "id": "55fadf3a",
   "metadata": {},
   "outputs": [],
   "source": [
    "#Azure OpenAI 모델의 키워드 인수"
   ]
  },
  {
   "cell_type": "code",
   "execution_count": 5,
   "id": "ff7afc47",
   "metadata": {
    "scrolled": true
   },
   "outputs": [
    {
     "data": {
      "text/plain": [
       "['WARNING: Ignoring invalid distribution -pype1 (c:\\\\users\\\\jyseo\\\\appdata\\\\roaming\\\\python\\\\python38\\\\site-packages)',\n",
       " 'WARNING: Ignoring invalid distribution -pype1 (c:\\\\users\\\\jyseo\\\\appdata\\\\roaming\\\\python\\\\python38\\\\site-packages)',\n",
       " 'Requirement already satisfied: azure-identity in e:\\\\anaconda3\\\\envs\\\\llm\\\\lib\\\\site-packages (1.15.0)',\n",
       " 'Requirement already satisfied: azure-core<2.0.0,>=1.23.0 in e:\\\\anaconda3\\\\envs\\\\llm\\\\lib\\\\site-packages (from azure-identity) (1.30.1)',\n",
       " 'Requirement already satisfied: cryptography>=2.5 in e:\\\\anaconda3\\\\envs\\\\llm\\\\lib\\\\site-packages (from azure-identity) (42.0.5)',\n",
       " 'Requirement already satisfied: msal<2.0.0,>=1.24.0 in e:\\\\anaconda3\\\\envs\\\\llm\\\\lib\\\\site-packages (from azure-identity) (1.28.0)',\n",
       " 'Requirement already satisfied: msal-extensions<2.0.0,>=0.3.0 in e:\\\\anaconda3\\\\envs\\\\llm\\\\lib\\\\site-packages (from azure-identity) (1.1.0)',\n",
       " 'Requirement already satisfied: requests>=2.21.0 in e:\\\\anaconda3\\\\envs\\\\llm\\\\lib\\\\site-packages (from azure-core<2.0.0,>=1.23.0->azure-identity) (2.31.0)',\n",
       " 'Requirement already satisfied: six>=1.11.0 in e:\\\\anaconda3\\\\envs\\\\llm\\\\lib\\\\site-packages (from azure-core<2.0.0,>=1.23.0->azure-identity) (1.16.0)',\n",
       " 'Requirement already satisfied: typing-extensions>=4.6.0 in e:\\\\anaconda3\\\\envs\\\\llm\\\\lib\\\\site-packages (from azure-core<2.0.0,>=1.23.0->azure-identity) (4.9.0)',\n",
       " 'Requirement already satisfied: cffi>=1.12 in e:\\\\anaconda3\\\\envs\\\\llm\\\\lib\\\\site-packages (from cryptography>=2.5->azure-identity) (1.16.0)',\n",
       " 'Requirement already satisfied: PyJWT<3,>=1.0.0 in e:\\\\anaconda3\\\\envs\\\\llm\\\\lib\\\\site-packages (from PyJWT[crypto]<3,>=1.0.0->msal<2.0.0,>=1.24.0->azure-identity) (2.8.0)',\n",
       " 'Requirement already satisfied: packaging in e:\\\\anaconda3\\\\envs\\\\llm\\\\lib\\\\site-packages (from msal-extensions<2.0.0,>=0.3.0->azure-identity) (23.2)',\n",
       " 'Requirement already satisfied: portalocker<3,>=1.6 in e:\\\\anaconda3\\\\envs\\\\llm\\\\lib\\\\site-packages (from msal-extensions<2.0.0,>=0.3.0->azure-identity) (2.8.2)',\n",
       " 'Requirement already satisfied: pycparser in e:\\\\anaconda3\\\\envs\\\\llm\\\\lib\\\\site-packages (from cffi>=1.12->cryptography>=2.5->azure-identity) (2.21)',\n",
       " 'Requirement already satisfied: pywin32>=226 in e:\\\\anaconda3\\\\envs\\\\llm\\\\lib\\\\site-packages (from portalocker<3,>=1.6->msal-extensions<2.0.0,>=0.3.0->azure-identity) (306)',\n",
       " 'Requirement already satisfied: charset-normalizer<4,>=2 in e:\\\\anaconda3\\\\envs\\\\llm\\\\lib\\\\site-packages (from requests>=2.21.0->azure-core<2.0.0,>=1.23.0->azure-identity) (2.0.4)',\n",
       " 'Requirement already satisfied: idna<4,>=2.5 in e:\\\\anaconda3\\\\envs\\\\llm\\\\lib\\\\site-packages (from requests>=2.21.0->azure-core<2.0.0,>=1.23.0->azure-identity) (3.4)',\n",
       " 'Requirement already satisfied: urllib3<3,>=1.21.1 in e:\\\\anaconda3\\\\envs\\\\llm\\\\lib\\\\site-packages (from requests>=2.21.0->azure-core<2.0.0,>=1.23.0->azure-identity) (1.26.18)',\n",
       " 'Requirement already satisfied: certifi>=2017.4.17 in e:\\\\anaconda3\\\\envs\\\\llm\\\\lib\\\\site-packages (from requests>=2.21.0->azure-core<2.0.0,>=1.23.0->azure-identity) (2023.11.17)',\n",
       " 'WARNING: Ignoring invalid distribution -pype1 (c:\\\\users\\\\jyseo\\\\appdata\\\\roaming\\\\python\\\\python38\\\\site-packages)',\n",
       " 'WARNING: Ignoring invalid distribution -pype1 (c:\\\\users\\\\jyseo\\\\appdata\\\\roaming\\\\python\\\\python38\\\\site-packages)',\n",
       " 'WARNING: Ignoring invalid distribution -pype1 (c:\\\\users\\\\jyseo\\\\appdata\\\\roaming\\\\python\\\\python38\\\\site-packages)',\n",
       " 'WARNING: Ignoring invalid distribution -pype1 (c:\\\\users\\\\jyseo\\\\appdata\\\\roaming\\\\python\\\\python38\\\\site-packages)']"
      ]
     },
     "execution_count": 5,
     "metadata": {},
     "output_type": "execute_result"
    }
   ],
   "source": [
    "!pip install azure-identity"
   ]
  },
  {
   "cell_type": "code",
   "execution_count": 30,
   "id": "ebccd93b",
   "metadata": {},
   "outputs": [
    {
     "name": "stdout",
     "output_type": "stream",
     "text": [
      "{\n",
      "  \"id\": \"chatcmpl-968cxJaaYtQSz69AvX3o0uUdiEuxY\",\n",
      "  \"choices\": [\n",
      "    {\n",
      "      \"finish_reason\": \"stop\",\n",
      "      \"index\": 0,\n",
      "      \"logprobs\": null,\n",
      "      \"message\": {\n",
      "        \"content\": \"To output all files in a directory using Python, you can use the `os` or `pathlib` modules. Below are two examples showing how to do this with each module.\\n\\n### Using `os.listdir` and `os.path`\\n\\n```python\\nimport os\\n\\n# Specify the directory you want to list files from\\ndirectory = '/path/to/directory'\\n\\n# List all entries in the directory\\nentries = os.listdir(directory)\\n\\n# Loop through the entries and check if they are files\\nfor entry in entries:\\n    if os.path.isfile(os.path.join(directory, entry)):\\n        print(entry)\\n```\\n\\n### Using `pathlib`\\n\\n```python\\nfrom pathlib import Path\\n\\n# Specify the directory you want to list files from\\ndirectory = Path('/path/to/directory')\\n\\n# Iterate over the directory\\nfor path in directory.iterdir():\\n    if path.is_file():\\n        print(path.name)\\n```\\n\\nNote that `os.listdir` returns both files and directories. To filter out directories, you can use `os.path.isfile`. On the other hand, `Path.iterdir` from `pathlib` returns `Path` objects that you can query with methods like `is_file` to determine if the path is a file. The `path.name` attribute will give you the filename.\\n\\nMake sure to replace `/path/to/directory` with the actual path of the directory whose files you want to list.\",\n",
      "        \"role\": \"assistant\",\n",
      "        \"function_call\": null,\n",
      "        \"tool_calls\": null\n",
      "      },\n",
      "      \"content_filter_results\": {\n",
      "        \"hate\": {\n",
      "          \"filtered\": false,\n",
      "          \"severity\": \"safe\"\n",
      "        },\n",
      "        \"self_harm\": {\n",
      "          \"filtered\": false,\n",
      "          \"severity\": \"safe\"\n",
      "        },\n",
      "        \"sexual\": {\n",
      "          \"filtered\": false,\n",
      "          \"severity\": \"safe\"\n",
      "        },\n",
      "        \"violence\": {\n",
      "          \"filtered\": false,\n",
      "          \"severity\": \"safe\"\n",
      "        }\n",
      "      }\n",
      "    }\n",
      "  ],\n",
      "  \"created\": 1711250159,\n",
      "  \"model\": \"gpt-4\",\n",
      "  \"object\": \"chat.completion\",\n",
      "  \"system_fingerprint\": \"fp_8abb16fa4e\",\n",
      "  \"usage\": {\n",
      "    \"completion_tokens\": 283,\n",
      "    \"prompt_tokens\": 19,\n",
      "    \"total_tokens\": 302\n",
      "  },\n",
      "  \"prompt_filter_results\": [\n",
      "    {\n",
      "      \"prompt_index\": 0,\n",
      "      \"content_filter_results\": {\n",
      "        \"hate\": {\n",
      "          \"filtered\": false,\n",
      "          \"severity\": \"safe\"\n",
      "        },\n",
      "        \"self_harm\": {\n",
      "          \"filtered\": false,\n",
      "          \"severity\": \"safe\"\n",
      "        },\n",
      "        \"sexual\": {\n",
      "          \"filtered\": false,\n",
      "          \"severity\": \"safe\"\n",
      "        },\n",
      "        \"violence\": {\n",
      "          \"filtered\": false,\n",
      "          \"severity\": \"safe\"\n",
      "        }\n",
      "      }\n",
      "    }\n",
      "  ]\n",
      "}\n"
     ]
    }
   ],
   "source": [
    "import openai\n",
    "use_azure_active_directory = False\n",
    "if not use_azure_active_directory:\n",
    "    endpoint = \"\"\n",
    "    api_key = \"\"\n",
    "\n",
    "    client = openai.AzureOpenAI(\n",
    "        azure_endpoint=endpoint,\n",
    "        api_key=api_key,\n",
    "        api_version=\"2024-02-15-preview\"\n",
    "    )\n",
    "completion = client.chat.completions.create(\n",
    "    model=\"gpt-4-1106-preview\",  # e.g. gpt-35-instant\n",
    "    messages=[\n",
    "        {\n",
    "            \"role\": \"user\",\n",
    "            \"content\": \"How do I output all files in a directory using Python?\",\n",
    "        },\n",
    "    ],\n",
    ")\n",
    "print(completion.model_dump_json(indent=2))"
   ]
  },
  {
   "cell_type": "code",
   "execution_count": 18,
   "id": "a3d2cf8d",
   "metadata": {},
   "outputs": [],
   "source": [
    "embedding = client.embeddings.create(\n",
    "    model=\"text-embedding-ada-002\", # 사용자 배포한 이름과 일치해야 합니다.\n",
    "    input=\"<input>\"\n",
    ")"
   ]
  },
  {
   "cell_type": "code",
   "execution_count": 26,
   "id": "4c4cc393",
   "metadata": {},
   "outputs": [],
   "source": [
    "#다중 입력 지원 OpenAI"
   ]
  },
  {
   "cell_type": "code",
   "execution_count": 28,
   "id": "c5f1dfee",
   "metadata": {},
   "outputs": [],
   "source": [
    "inputs = [\"A\", \"B\", \"C\"] \n",
    "\n",
    "embedding = client.embeddings.create(\n",
    "    input=inputs,\n",
    "    model=\"text-embedding-ada-002\"\n",
    ")"
   ]
  },
  {
   "cell_type": "code",
   "execution_count": 29,
   "id": "1663a60e",
   "metadata": {},
   "outputs": [],
   "source": [
    "#다중 입력 지원 Azure OpenAI"
   ]
  },
  {
   "cell_type": "code",
   "execution_count": 31,
   "id": "f1f85d2c",
   "metadata": {},
   "outputs": [],
   "source": [
    "inputs = [\"A\", \"B\", \"C\"] \n",
    "\n",
    "embedding = client.embeddings.create(\n",
    "    input=inputs,\n",
    "    model=\"text-embedding-ada-002\" # 사용자 배포한 이름과 일치해야 합니다.\n",
    ")"
   ]
  },
  {
   "cell_type": "code",
   "execution_count": null,
   "id": "9c0d2618",
   "metadata": {},
   "outputs": [],
   "source": []
  }
 ],
 "metadata": {
  "kernelspec": {
   "display_name": "openai_f",
   "language": "python",
   "name": "openai"
  },
  "language_info": {
   "codemirror_mode": {
    "name": "ipython",
    "version": 3
   },
   "file_extension": ".py",
   "mimetype": "text/x-python",
   "name": "python",
   "nbconvert_exporter": "python",
   "pygments_lexer": "ipython3",
   "version": "3.8.19"
  }
 },
 "nbformat": 4,
 "nbformat_minor": 5
}
