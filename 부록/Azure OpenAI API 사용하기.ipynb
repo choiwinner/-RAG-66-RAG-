{
 "cells": [
  {
   "cell_type": "code",
   "execution_count": 88,
   "id": "12e9d7a3-aeb0-4ec4-b7f0-b4f9d323fff7",
   "metadata": {},
   "outputs": [],
   "source": [
    "# Import Azure OpenAI\n",
    "import os\n",
    "from openai import AzureOpenAI\n",
    "BASE_URL = \"https://__.openai.azure.com\"\n",
    "API_KEY = \"412~\"\n",
    "DEPLOYMENT_NAME = \"gpt-4\"\n",
    "\n",
    "llm = AzureChatOpenAI(\n",
    "    azure_endpoint=BASE_URL,\n",
    "    openai_api_version=\"2023-05-15\",\n",
    "    deployment_name=DEPLOYMENT_NAME,\n",
    "    openai_api_key=API_KEY,\n",
    "    openai_api_type=\"azure\",\n",
    ")"
   ]
  },
  {
   "cell_type": "code",
   "execution_count": 89,
   "id": "5ab923e1-5a7a-4b02-adc3-3eddb5533605",
   "metadata": {},
   "outputs": [
    {
     "data": {
      "text/plain": [
       "AIMessage(content='나는 프로그래밍을 사랑해.', response_metadata={'token_usage': {'completion_tokens': 13, 'prompt_tokens': 19, 'total_tokens': 32}, 'model_name': 'gpt-4', 'system_fingerprint': None, 'finish_reason': 'stop', 'logprobs': None}, id='run-3dd7d1da-1536-440b-9ab4-1e356fd53520-0')"
      ]
     },
     "execution_count": 89,
     "metadata": {},
     "output_type": "execute_result"
    }
   ],
   "source": [
    "from langchain_core.messages import HumanMessage\n",
    "message = HumanMessage(\n",
    "    content=\"Translate this sentence from English to Korean. I love programming.\"\n",
    ")\n",
    "llm([message])"
   ]
  },
  {
   "cell_type": "code",
   "execution_count": 104,
   "id": "8dd20c60-4556-4edd-a00d-642e1c420904",
   "metadata": {},
   "outputs": [],
   "source": [
    "from langchain.embeddings import OpenAIEmbeddings\n",
    "embeddings = OpenAIEmbeddings(model=\"text-embedding-ada-002\", chunk_size=1, openai_api_key=\"sk-\")"
   ]
  },
  {
   "cell_type": "code",
   "execution_count": 105,
   "id": "bddb07d2-fb0f-470b-b45d-007f8f63ec5b",
   "metadata": {},
   "outputs": [],
   "source": [
    "from langchain_community.document_loaders import PyPDFLoader\n",
    "pdf_filepath = 'e:/data/차세대 한국형 스마트팜 개발.pdf'\n",
    "loader = PyPDFLoader(pdf_filepath)\n",
    "documents  = loader.load()"
   ]
  },
  {
   "cell_type": "code",
   "execution_count": 106,
   "id": "b6adab10-2164-4ee0-8e8e-6c1739a8c041",
   "metadata": {},
   "outputs": [],
   "source": [
    "from langchain.text_splitter import CharacterTextSplitter\n",
    "text_splitter = TokenTextSplitter(chunk_size=1000, chunk_overlap=200)\n",
    "docs = text_splitter.split_documents(documents)\n"
   ]
  },
  {
   "cell_type": "code",
   "execution_count": 107,
   "id": "35e3c6ff-9f4a-4590-9163-626a244038a4",
   "metadata": {},
   "outputs": [],
   "source": [
    "from langchain.vectorstores import FAISS\n",
    "db = FAISS.from_documents(documents=docs, embedding=embeddings)"
   ]
  },
  {
   "cell_type": "code",
   "execution_count": 115,
   "id": "cdf284c8-be5c-46b1-9ad6-f5f2f3695a81",
   "metadata": {},
   "outputs": [],
   "source": [
    "from langchain.chains import ConversationalRetrievalChain\n",
    "from langchain.prompts import PromptTemplate\n",
    "\n",
    "# Adapt if needed\n",
    "CONDENSE_QUESTION_PROMPT = PromptTemplate.from_template(\"\"\"다음 대화와 후속 질문이 주어지면 후속 질문을 독립형 질문으로 바꾸어 표현해줘.\n",
    "\n",
    "Chat History:\n",
    "{chat_history}\n",
    "Follow Up Input: {question}\n",
    "Standalone question:\"\"\")\n",
    "\n",
    "qa = ConversationalRetrievalChain.from_llm(llm=llm,\n",
    "                                           retriever=db.as_retriever(),\n",
    "                                           condense_question_prompt=CONDENSE_QUESTION_PROMPT,\n",
    "                                           return_source_documents=True,\n",
    "                                           verbose=False)"
   ]
  },
  {
   "cell_type": "code",
   "execution_count": 116,
   "id": "ebed33af-3418-474b-96f3-c0061dd9cbdf",
   "metadata": {},
   "outputs": [
    {
     "name": "stdout",
     "output_type": "stream",
     "text": [
      "한국형 스마트팜은 사물인터넷, 빅데이터, 인공지능, 로봇 등을 활용하여 농산물의 생육환경을 최적상태로 관리하고 노동력 절감과 생산성 향상을 구현하는 효율적인 농업형태를 말합니다. 이는 농업의 고령화와 높은 노동강도로 인해 청년인구의 유입이 어려운 현상을 해결하는 대안으로 제시되었습니다. \n",
      "\n",
      "차세대 한국형 스마트팜 기술개발 프로젝트는 4기관 19개 전담부서가 협업하여 핵심 요소 및 원천 기반기술의 확보를 위해 연구 역량을 집중하고 있습니다. 이 프로젝트는 기술수준별로 스마트팜 모델을 3가지 단계로 구분하여 개발을 추진하고 있으며, 이를 통해 노동력과 농자재의 사용을 줄이고, 생산성과 품질을 제고하며 농가소득과 연계하고, 영농현장의 애로와 연관 산업의 문제를 동시에 해결하는 것이 목표입니다.\n"
     ]
    }
   ],
   "source": [
    "chat_history = []\n",
    "query = \"한국형 스마트팜이 뭐야?\"\n",
    "result = qa({\"question\": query, \"chat_history\": chat_history})\n",
    "print(result[\"answer\"])"
   ]
  },
  {
   "cell_type": "code",
   "execution_count": 117,
   "id": "05406990-de4b-424e-972e-eb87f260da87",
   "metadata": {},
   "outputs": [
    {
     "name": "stdout",
     "output_type": "stream",
     "text": [
      "농업분야에서는 스마트 기기를 농사에 효과적으로 접목할 수 있는 ICT 기술이 필요하다. 이에는 사물인터넷, 빅데이터, 인공지능, 로봇 등이 포함되며, 이들 기술을 활용한 스마트팜 연구개발이 중요하다. 또한, ICT 기기들의 규격화와 표준화 역시 필요하다. 특히, 시설원예 및 축산에 사용되는 각종 센서 및 제어기에 대하여 형식과 통신방식 등을 통일하는 표준화 작업이 추진되고 있다.\n"
     ]
    }
   ],
   "source": [
    "chat_history = []\n",
    "query = \"필요한 ICT 기술은?\"\n",
    "result = qa({\"question\": query, \"chat_history\": chat_history})\n",
    "print(result[\"answer\"])"
   ]
  },
  {
   "cell_type": "code",
   "execution_count": null,
   "id": "ba26e51b-e8a2-4614-8ef5-07af1d253dc0",
   "metadata": {},
   "outputs": [],
   "source": []
  }
 ],
 "metadata": {
  "kernelspec": {
   "display_name": "openai_f",
   "language": "python",
   "name": "openai"
  },
  "language_info": {
   "codemirror_mode": {
    "name": "ipython",
    "version": 3
   },
   "file_extension": ".py",
   "mimetype": "text/x-python",
   "name": "python",
   "nbconvert_exporter": "python",
   "pygments_lexer": "ipython3",
   "version": "3.8.19"
  }
 },
 "nbformat": 4,
 "nbformat_minor": 5
}
