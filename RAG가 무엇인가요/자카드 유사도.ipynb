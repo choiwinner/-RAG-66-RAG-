{
 "cells": [
  {
   "cell_type": "code",
   "execution_count": 1,
   "id": "4b1754bf-f2cc-4390-9797-187104cfc5d2",
   "metadata": {},
   "outputs": [],
   "source": [
    "#자카드 유사도"
   ]
  },
  {
   "cell_type": "code",
   "execution_count": 2,
   "id": "43fc959d-d74e-4fd7-9a03-884d454b6e48",
   "metadata": {},
   "outputs": [
    {
     "name": "stdout",
     "output_type": "stream",
     "text": [
      "{3, 4}\n"
     ]
    }
   ],
   "source": [
    "#교집합 구하기\n",
    "a = {1, 2, 3, 4}\n",
    "b = {3, 4, 5}\n",
    "intersection = a.intersection(b)\n",
    "print(intersection)"
   ]
  },
  {
   "cell_type": "code",
   "execution_count": 3,
   "id": "b2adf0ff-4c99-459d-bbe2-fc89e1ab660d",
   "metadata": {},
   "outputs": [
    {
     "name": "stdout",
     "output_type": "stream",
     "text": [
      "{1, 2, 3, 4, 5}\n"
     ]
    }
   ],
   "source": [
    "#합집합 구하기\n",
    "a = {1, 2, 3, 4}\n",
    "b = {3, 4, 5}\n",
    "union = a.union(b)\n",
    "print(union) "
   ]
  },
  {
   "cell_type": "code",
   "execution_count": 4,
   "id": "82fc2b4b-11fa-4b41-a182-3f6e9df151d6",
   "metadata": {},
   "outputs": [
    {
     "name": "stdout",
     "output_type": "stream",
     "text": [
      "자카드 유사도: 0.4\n"
     ]
    }
   ],
   "source": [
    "#자카드 유사도 구하기\n",
    "a = {1, 2, 3, 4}\n",
    "b = {3, 4, 5}\n",
    "\n",
    "intersection = a.intersection(b)\n",
    "union = a.union(b)\n",
    "\n",
    "jaccard_similarity = len(intersection) / len(union)\n",
    "print(f\"자카드 유사도: {jaccard_similarity}\")"
   ]
  },
  {
   "cell_type": "code",
   "execution_count": null,
   "id": "4330a6c7-4b18-4b78-9573-0544d6b91e10",
   "metadata": {},
   "outputs": [],
   "source": []
  }
 ],
 "metadata": {
  "kernelspec": {
   "display_name": "openai_f",
   "language": "python",
   "name": "openai"
  },
  "language_info": {
   "codemirror_mode": {
    "name": "ipython",
    "version": 3
   },
   "file_extension": ".py",
   "mimetype": "text/x-python",
   "name": "python",
   "nbconvert_exporter": "python",
   "pygments_lexer": "ipython3",
   "version": "3.8.19"
  }
 },
 "nbformat": 4,
 "nbformat_minor": 5
}
