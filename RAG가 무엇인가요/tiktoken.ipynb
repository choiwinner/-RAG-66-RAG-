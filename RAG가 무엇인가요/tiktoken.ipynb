{
 "cells": [
  {
   "cell_type": "code",
   "execution_count": 1,
   "id": "8a7b4cfe-0e48-46e1-8e35-c4b3fede8fea",
   "metadata": {},
   "outputs": [],
   "source": [
    "#tiktoken"
   ]
  },
  {
   "cell_type": "code",
   "execution_count": 2,
   "id": "b9b0ee85-4de4-4991-b1b2-6c5b1162625c",
   "metadata": {},
   "outputs": [],
   "source": [
    "from langchain.text_splitter import CharacterTextSplitter\n",
    "chunk_size =20\n",
    "chunk_overlap = 5\n",
    "\n",
    "splitter = CharacterTextSplitter.from_tiktoken_encoder(  #from_tiktoken_encoder을 이용하여 분리\n",
    "    chunk_size=chunk_size,\n",
    "    chunk_overlap=chunk_overlap,\n",
    "    model_name=\"gpt-3.5-turbo\"\n",
    ")"
   ]
  },
  {
   "cell_type": "code",
   "execution_count": 3,
   "id": "4a468615-becf-4c50-b3f5-a7ad54921cdb",
   "metadata": {},
   "outputs": [],
   "source": [
    "from langchain.document_loaders import PyPDFLoader\n",
    "\n",
    "# PDF 가져오기\n",
    "loaders = [\n",
    "    PyPDFLoader(\"e:/data/스마트농업_육성사업_추진현황과_개선과제.pdf\"),\n",
    "    PyPDFLoader(\"e:/data/차세대 한국형 스마트팜 개발.pdf\")\n",
    "]\n",
    "docs = []\n",
    "for loader in loaders:\n",
    "    docs.extend(loader.load())"
   ]
  },
  {
   "cell_type": "code",
   "execution_count": 5,
   "id": "98dd93d4-9841-46fd-b601-9913c31e7dab",
   "metadata": {},
   "outputs": [],
   "source": [
    "\n",
    "doc=splitter.split_documents(docs)\n"
   ]
  },
  {
   "cell_type": "code",
   "execution_count": 6,
   "id": "765c4151-2e1b-469e-9992-ab6e14cdbf7a",
   "metadata": {},
   "outputs": [
    {
     "name": "stdout",
     "output_type": "stream",
     "text": [
      "167\n"
     ]
    },
    {
     "data": {
      "text/plain": [
       "Document(page_content='스마트농업 육성사업 추진현황과 개선과제\\n2\\n0\\n2\\n2\\n·\\n6\\n·\\n1\\n52022. 6. 15.\\n스마트농업 육성사업  \\n추진현황과 개선과제국회예산정책처┃사업평가\\nAnalysis on the status and  \\nfuture development of  \\nSmart Farming projects\\n변재연', metadata={'source': 'e:/data/스마트농업_육성사업_추진현황과_개선과제.pdf', 'page': 0})"
      ]
     },
     "execution_count": 6,
     "metadata": {},
     "output_type": "execute_result"
    }
   ],
   "source": [
    "#첫 번째 문서의 분할된 청크의 크기와 문서의 내용을 각각 출력\n",
    "print(len(doc[0].page_content))\n",
    "doc[0]"
   ]
  },
  {
   "cell_type": "code",
   "execution_count": 7,
   "id": "f6e61d0f-0e06-43ac-996d-98e27af29e5b",
   "metadata": {},
   "outputs": [
    {
     "name": "stdout",
     "output_type": "stream",
     "text": [
      "21\n"
     ]
    },
    {
     "data": {
      "text/plain": [
       "Document(page_content='스마트농업 육성사업\\n추진현황과 개선과제', metadata={'source': 'e:/data/스마트농업_육성사업_추진현황과_개선과제.pdf', 'page': 1})"
      ]
     },
     "execution_count": 7,
     "metadata": {},
     "output_type": "execute_result"
    }
   ],
   "source": [
    "#두 번째 문서의 분할된 청크의 크기와 문서의 내용을 각각 \n",
    "print(len(doc[1].page_content))\n",
    "doc[1]"
   ]
  },
  {
   "cell_type": "code",
   "execution_count": 8,
   "id": "25e701f7-93f4-4d41-9900-a8750fa0a61f",
   "metadata": {},
   "outputs": [
    {
     "name": "stdout",
     "output_type": "stream",
     "text": [
      "394\n"
     ]
    },
    {
     "data": {
      "text/plain": [
       "Document(page_content='스마트농업 육성사업 추진현황과 개선과제\\n총 괄Ｉ 송병철 예산분석실장\\n기획․조정Ｉ 서세욱 사업평가심의관\\n전용수 경제산업사업평가과장\\n작 성Ｉ 변재연 경제산업사업평가과 예산분석관\\n지 원Ｉ 김창민 경제산업사업평가과 자료분석지원요원\\n이채원 경제산업사업평가과 행정실무원\\n본 보고서는  ｢국회법 ｣ 제22조의2 및 ｢국회예산정책처법 ｣ 제3조에 따라 국회의원의\\n의정활동을 지원하기 위하여 발간되었습니다.\\n문의:  예산분석실 경제산업사업평가과  | 02) 6788-3777 | eie@nabo.go.kr\\n이 책은 국회예산정책처 홈페이지(www.nabo.go.kr)를 통하여 보실 수 있습니다.\\n“본 보고서는 담당 분석관의 연구 결과를 바탕으로 작성된 것으로 \\n국회예산정책처의 공식의견과는 다를 수 있음을 알려드립니다.”', metadata={'source': 'e:/data/스마트농업_육성사업_추진현황과_개선과제.pdf', 'page': 2})"
      ]
     },
     "execution_count": 8,
     "metadata": {},
     "output_type": "execute_result"
    }
   ],
   "source": [
    "#세 번째 문서의 분할된 청크의 크기와 문서의 내용을 각각 \n",
    "print(len(doc[2].page_content))\n",
    "doc[2]"
   ]
  },
  {
   "cell_type": "code",
   "execution_count": null,
   "id": "466a017c-4471-4143-bfe5-c84a71be7e32",
   "metadata": {},
   "outputs": [],
   "source": []
  }
 ],
 "metadata": {
  "kernelspec": {
   "display_name": "openai_f",
   "language": "python",
   "name": "openai"
  },
  "language_info": {
   "codemirror_mode": {
    "name": "ipython",
    "version": 3
   },
   "file_extension": ".py",
   "mimetype": "text/x-python",
   "name": "python",
   "nbconvert_exporter": "python",
   "pygments_lexer": "ipython3",
   "version": "3.8.19"
  }
 },
 "nbformat": 4,
 "nbformat_minor": 5
}
