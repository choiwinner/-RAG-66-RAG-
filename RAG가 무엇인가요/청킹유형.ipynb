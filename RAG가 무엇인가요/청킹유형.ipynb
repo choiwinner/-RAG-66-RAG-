{
 "cells": [
  {
   "cell_type": "code",
   "execution_count": 1,
   "id": "8a7b4cfe-0e48-46e1-8e35-c4b3fede8fea",
   "metadata": {},
   "outputs": [],
   "source": [
    "#랭체인에서 Splitter 유형"
   ]
  },
  {
   "cell_type": "code",
   "execution_count": 2,
   "id": "b9b0ee85-4de4-4991-b1b2-6c5b1162625c",
   "metadata": {},
   "outputs": [],
   "source": [
    "from langchain.text_splitter import RecursiveCharacterTextSplitter, CharacterTextSplitter\n",
    "chunk_size =20\n",
    "chunk_overlap = 5\n",
    "\n",
    "r_splitter = RecursiveCharacterTextSplitter(\n",
    "    chunk_size=chunk_size,\n",
    "    chunk_overlap=chunk_overlap\n",
    ")\n",
    "c_splitter = CharacterTextSplitter(\n",
    "    chunk_size=chunk_size,\n",
    "    chunk_overlap=chunk_overlap\n",
    ")"
   ]
  },
  {
   "cell_type": "code",
   "execution_count": 4,
   "id": "98dd93d4-9841-46fd-b601-9913c31e7dab",
   "metadata": {},
   "outputs": [
    {
     "data": {
      "text/plain": [
       "['청킹을 위한 예제 데이터입니다.', '어떻게 쪼개지는지 알아볼까요?']"
      ]
     },
     "execution_count": 4,
     "metadata": {},
     "output_type": "execute_result"
    }
   ],
   "source": [
    "# Recursive Splitter\n",
    "text1 = '청킹을 위한 예제 데이터입니다. 어떻게 쪼개지는지 알아볼까요?'\n",
    "r_splitter.split_text(text1)"
   ]
  },
  {
   "cell_type": "code",
   "execution_count": 5,
   "id": "765c4151-2e1b-469e-9992-ab6e14cdbf7a",
   "metadata": {},
   "outputs": [
    {
     "data": {
      "text/plain": [
       "['청킹을 위한 예제 데이터입니다.', '어떻게 쪼개지는지 알아볼까요?', '결과를 확인해봅시다.']"
      ]
     },
     "execution_count": 5,
     "metadata": {},
     "output_type": "execute_result"
    }
   ],
   "source": [
    "# Character Splitter\n",
    "text2 = '청킹을 위한 예제 데이터입니다. 어떻게 쪼개지는지 알아볼까요? 결과를 확인해봅시다.'\n",
    "r_splitter.split_text(text2)\n"
   ]
  },
  {
   "cell_type": "code",
   "execution_count": 6,
   "id": "f6e61d0f-0e06-43ac-996d-98e27af29e5b",
   "metadata": {},
   "outputs": [
    {
     "data": {
      "text/plain": [
       "['청킹을 위한 예제 데이터입니다. 어떻게 쪼개지는지 알아볼까요?']"
      ]
     },
     "execution_count": 6,
     "metadata": {},
     "output_type": "execute_result"
    }
   ],
   "source": [
    "# Recursive Splitter\n",
    "text1 = '청킹을 위한 예제 데이터입니다. 어떻게 쪼개지는지 알아볼까요?'\n",
    "c_splitter.split_text(text1)\n"
   ]
  },
  {
   "cell_type": "code",
   "execution_count": 7,
   "id": "25e701f7-93f4-4d41-9900-a8750fa0a61f",
   "metadata": {},
   "outputs": [
    {
     "data": {
      "text/plain": [
       "['청킹을 위한 예제 데이터입니다. 어떻게 쪼개지는지 알아볼까요? 결과를 확인해봅시다.']"
      ]
     },
     "execution_count": 7,
     "metadata": {},
     "output_type": "execute_result"
    }
   ],
   "source": [
    "# Character Splitter\n",
    "text2 = '청킹을 위한 예제 데이터입니다. 어떻게 쪼개지는지 알아볼까요? 결과를 확인해봅시다.'\n",
    "c_splitter.split_text(text2)\n"
   ]
  },
  {
   "cell_type": "code",
   "execution_count": 10,
   "id": "f50d6403-f3e0-4706-bf85-c8620e4eb586",
   "metadata": {},
   "outputs": [
    {
     "data": {
      "text/plain": [
       "['When writing documents, writers will use document structure to group content. This can convey to the reader, which idea\\'s are related. For example, closely related ideas are in sentances. Similar ideas are in paragraphs. Paragraphs form a document. \\n\\n Paragraphs are often delimited with a carriage return or two carriage returns. Carriage returns are the \"backslash n\" you see embedded in this string. Sentences have a period at the end, but also,',\n",
       " 'have a space.and words are separated by space.']"
      ]
     },
     "execution_count": 10,
     "metadata": {},
     "output_type": "execute_result"
    }
   ],
   "source": [
    "some_text = \"\"\"When writing documents, writers will use document structure to group content. \\\n",
    "This can convey to the reader, which idea's are related. For example, closely related ideas \\\n",
    "are in sentances. Similar ideas are in paragraphs. Paragraphs form a document. \\n\\n  \\\n",
    "Paragraphs are often delimited with a carriage return or two carriage returns. \\\n",
    "Carriage returns are the \"backslash n\" you see embedded in this string. \\\n",
    "Sentences have a period at the end, but also, have a space.\\\n",
    "and words are separated by space.\"\"\"\n",
    "\n"
   ]
  },
  {
   "cell_type": "code",
   "execution_count": 13,
   "id": "fb9d7211-3760-4077-bd85-6bb2dc995cbb",
   "metadata": {},
   "outputs": [
    {
     "name": "stdout",
     "output_type": "stream",
     "text": [
      "오늘도\n",
      "\n",
      "어김없이\n",
      "\n",
      "\n",
      "LLM을\n",
      "\\학습한다\n"
     ]
    }
   ],
   "source": [
    "#한줄 띄우기, 두줄 띄우기 예시\n",
    "print('오늘도')\n",
    "print('\\n어김없이')\n",
    "print('\\n\\nLLM을')\n",
    "print('\\학습한다')"
   ]
  },
  {
   "cell_type": "code",
   "execution_count": null,
   "id": "f176949d-b69f-453b-b0bf-273a9fe9f565",
   "metadata": {},
   "outputs": [],
   "source": [
    "some_text = \"\"\"When writing documents, writers will use document structure to group content. \\\n",
    "This can convey to the reader, which idea's are related. For example, closely related ideas \\\n",
    "are in sentances. Similar ideas are in paragraphs. Paragraphs form a document. \\n\\n  \\\n",
    "Paragraphs are often delimited with a carriage return or two carriage returns. \\\n",
    "Carriage returns are the \"backslash n\" you see embedded in this string. \\\n",
    "Sentences have a period at the end, but also, have a space.\\\n",
    "and words are separated by space.\"\"\""
   ]
  },
  {
   "cell_type": "code",
   "execution_count": 14,
   "id": "6f61a4e1-fab9-4bac-b8e5-3c976ce32039",
   "metadata": {},
   "outputs": [
    {
     "data": {
      "text/plain": [
       "['When writing documents, writers will use document structure to group content. This can convey to the reader, which idea\\'s are related. For example, closely related ideas are in sentances. Similar ideas are in paragraphs. Paragraphs form a document. \\n\\n Paragraphs are often delimited with a carriage return or two carriage returns. Carriage returns are the \"backslash n\" you see embedded in this string. Sentences have a period at the end, but also,',\n",
       " 'have a space.and words are separated by space.']"
      ]
     },
     "execution_count": 14,
     "metadata": {},
     "output_type": "execute_result"
    }
   ],
   "source": [
    "c_splitter = CharacterTextSplitter(\n",
    "    chunk_size=450,\n",
    "    chunk_overlap=0,\n",
    "    separator = ' '\n",
    ")\n",
    "c_splitter.split_text(some_text)"
   ]
  },
  {
   "cell_type": "code",
   "execution_count": null,
   "id": "e13e7101-97b3-4559-bd8b-ea9e0ebe79a1",
   "metadata": {},
   "outputs": [],
   "source": [
    "some_text = \"\"\"When writing documents, writers will use document structure to group content. \\\n",
    "This can convey to the reader, which idea's are related. For example, closely related ideas \\\n",
    "are in sentances. Similar ideas are in paragraphs. Paragraphs form a document. \\n\\n  \\\n",
    "Paragraphs are often delimited with a carriage return or two carriage returns. \\\n",
    "Carriage returns are the \"backslash n\" you see embedded in this string. \\\n",
    "Sentences have a period at the end, but also, have a space.\\\n",
    "and words are separated by space.\"\"\""
   ]
  },
  {
   "cell_type": "code",
   "execution_count": 11,
   "id": "21987e93-22ba-49b0-851c-ac74f0615121",
   "metadata": {},
   "outputs": [
    {
     "data": {
      "text/plain": [
       "[\"When writing documents, writers will use document structure to group content. This can convey to the reader, which idea's are related. For example, closely related ideas are in sentances. Similar ideas are in paragraphs. Paragraphs form a document.\",\n",
       " 'Paragraphs are often delimited with a carriage return or two carriage returns. Carriage returns are the \"backslash n\" you see embedded in this string. Sentences have a period at the end, but also, have a space.and words are separated by space.']"
      ]
     },
     "execution_count": 11,
     "metadata": {},
     "output_type": "execute_result"
    }
   ],
   "source": [
    "r_splitter = RecursiveCharacterTextSplitter(\n",
    "    chunk_size=450,\n",
    "    chunk_overlap=0, \n",
    "    separators=[\"\\n\\n\", \"\\n\", \" \", \"\"]\n",
    ")\n",
    "r_splitter.split_text(some_text)"
   ]
  },
  {
   "cell_type": "code",
   "execution_count": null,
   "id": "c54b2453-081c-48d0-b730-11eddabec6d6",
   "metadata": {},
   "outputs": [],
   "source": [
    "#RecursiveCharacterTextSplitter의 경우, \n",
    "#가장 먼저 \\n\\n으로 표시된 2줄 띄어쓰기 부분을 먼저 나누고, 이때 문장 역시 공백을 기준으로 나뉜 것을 확인할 수 있다\n",
    "#이후 한줄에 표시된 문장을 청크로 분리한다. \n",
    "#마지막으로 Character로 분리하기 때문에 더 세밀하게 chunking이 된다"
   ]
  },
  {
   "cell_type": "code",
   "execution_count": null,
   "id": "6768ac3c-e69b-4752-86db-d40f3feae640",
   "metadata": {},
   "outputs": [],
   "source": [
    "#TokenTextSplitter 예시"
   ]
  },
  {
   "cell_type": "code",
   "execution_count": 1,
   "id": "939de7b5-d4c5-4e72-8f4c-ab907a4492ab",
   "metadata": {},
   "outputs": [
    {
     "data": {
      "text/plain": [
       "['Border',\n",
       " ' coll',\n",
       " 'ies',\n",
       " ' are',\n",
       " ' very',\n",
       " ' intelligent',\n",
       " ',',\n",
       " ' capable',\n",
       " ' of',\n",
       " ' learning',\n",
       " ' well',\n",
       " ',',\n",
       " ' and',\n",
       " ' have',\n",
       " ' a',\n",
       " ' lot',\n",
       " ' of',\n",
       " ' energy',\n",
       " ',',\n",
       " ' so',\n",
       " ' they',\n",
       " ' need',\n",
       " ' a',\n",
       " ' lot',\n",
       " ' of',\n",
       " ' exercise',\n",
       " '.',\n",
       " ' They',\n",
       " ' have',\n",
       " ' strong',\n",
       " ' her',\n",
       " 'ding',\n",
       " ' instincts',\n",
       " ' and',\n",
       " ' can',\n",
       " ' easily',\n",
       " ' learn',\n",
       " ' a',\n",
       " ' variety',\n",
       " ' of',\n",
       " ' tricks',\n",
       " ' and',\n",
       " ' commands',\n",
       " '.']"
      ]
     },
     "execution_count": 1,
     "metadata": {},
     "output_type": "execute_result"
    }
   ],
   "source": [
    "from langchain.text_splitter import TokenTextSplitter\n",
    "\n",
    "text_splitter = TokenTextSplitter(chunk_size=1, chunk_overlap=0)\n",
    "\n",
    "text1 = \"Border collies are very intelligent, capable of learning well, and have a lot of energy, so they need a lot of exercise. They have strong herding instincts and can easily learn a variety of tricks and commands.\"\n",
    "text_splitter.split_text(text1)"
   ]
  },
  {
   "cell_type": "code",
   "execution_count": null,
   "id": "0f3aa5a2-da14-49b3-af33-cea664f64a04",
   "metadata": {},
   "outputs": [],
   "source": []
  }
 ],
 "metadata": {
  "kernelspec": {
   "display_name": "openai_f",
   "language": "python",
   "name": "openai"
  },
  "language_info": {
   "codemirror_mode": {
    "name": "ipython",
    "version": 3
   },
   "file_extension": ".py",
   "mimetype": "text/x-python",
   "name": "python",
   "nbconvert_exporter": "python",
   "pygments_lexer": "ipython3",
   "version": "3.8.19"
  }
 },
 "nbformat": 4,
 "nbformat_minor": 5
}
