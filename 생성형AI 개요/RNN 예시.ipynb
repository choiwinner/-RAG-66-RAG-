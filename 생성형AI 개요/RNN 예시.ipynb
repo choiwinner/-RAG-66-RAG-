{
 "cells": [
  {
   "cell_type": "code",
   "execution_count": 19,
   "id": "55be7e52",
   "metadata": {},
   "outputs": [],
   "source": [
    "#RNN 예시"
   ]
  },
  {
   "cell_type": "code",
   "execution_count": 12,
   "id": "caea7845",
   "metadata": {},
   "outputs": [],
   "source": [
    "import torch\n",
    "import torch.nn as nn\n",
    "import torch.optim as optim"
   ]
  },
  {
   "cell_type": "code",
   "execution_count": 13,
   "id": "6bef51b6",
   "metadata": {},
   "outputs": [],
   "source": [
    "class SimpleRNN(nn.Module):\n",
    "    def __init__(self, input_size, hidden_size, output_size):\n",
    "        super(SimpleRNN, self).__init__()\n",
    "        self.hidden_size = hidden_size\n",
    "        \n",
    "        self.rnn = nn.RNN(input_size, hidden_size)   # RNN 레이어\n",
    "        self.fc = nn.Linear(hidden_size, output_size)   # 출력 레이어\n",
    "\n",
    "    def forward(self, x):\n",
    "        # 초기 은닉 상태 설정\n",
    "        h0 = torch.zeros(1, x.size(1), self.hidden_size)\n",
    "        \n",
    "        # RNN에 x와 초기 은닉 상태 전달\n",
    "        out, _ = self.rnn(x, h0)  # x에 배치 차원 추가\n",
    "        \n",
    "        # 마지막 단계의 출력을 분류기에 전달\n",
    "        out = self.fc(out[:, -1, :]) \n",
    "        return out"
   ]
  },
  {
   "cell_type": "code",
   "execution_count": 17,
   "id": "96b805b0",
   "metadata": {},
   "outputs": [],
   "source": [
    "# 입력 및 출력 사이즈 정의\n",
    "input_size = 10 # 입력 특성의 수\n",
    "hidden_size = 20 # 은닉 상태의 특성 수\n",
    "output_size = 1 # 출력 특성의 수\n",
    "\n",
    "# 임의의 훈련 데이터 생성\n",
    "x_train = torch.randn(100, 5, input_size)  # 100개의 샘플, 각 샘플은 5시간 단계, 10개의 특성을 가짐\n",
    "y_train = torch.randn(100, 1)  # 각 샘플에 대한 임의의 출력값\n",
    "\n",
    "# 테스트 데이터\n",
    "x_test = torch.randn(20, 5, input_size)  \n",
    "y_test = torch.randn(20, 1)"
   ]
  },
  {
   "cell_type": "code",
   "execution_count": 15,
   "id": "2bbe7523",
   "metadata": {},
   "outputs": [],
   "source": [
    "# 모델 초기화\n",
    "model = SimpleRNN(input_size, hidden_size, output_size)\n",
    "\n",
    "criterion = nn.MSELoss()  #손실함수\n",
    "optimizer = optim.Adam(model.parameters(), lr=0.01) #옵티마이저:계산된 기울기를 기반으로 매개변수를 업데이트"
   ]
  },
  {
   "cell_type": "code",
   "execution_count": 16,
   "id": "1b77aed3",
   "metadata": {},
   "outputs": [
    {
     "name": "stderr",
     "output_type": "stream",
     "text": [
      "e:\\anaconda3\\envs\\llm\\lib\\site-packages\\torch\\nn\\modules\\loss.py:535: UserWarning: Using a target size (torch.Size([1])) that is different to the input size (torch.Size([5, 1])). This will likely lead to incorrect results due to broadcasting. Please ensure they have the same size.\n",
      "  return F.mse_loss(input, target, reduction=self.reduction)\n"
     ]
    },
    {
     "name": "stdout",
     "output_type": "stream",
     "text": [
      "Epoch [1/10], Loss: 0.9910\n",
      "Epoch [2/10], Loss: 1.7067\n",
      "Epoch [3/10], Loss: 1.8483\n",
      "Epoch [4/10], Loss: 1.8315\n",
      "Epoch [5/10], Loss: 2.7526\n",
      "Epoch [6/10], Loss: 2.3211\n",
      "Epoch [7/10], Loss: 1.3417\n",
      "Epoch [8/10], Loss: 1.4228\n",
      "Epoch [9/10], Loss: 1.2000\n",
      "Epoch [10/10], Loss: 0.9052\n"
     ]
    }
   ],
   "source": [
    "epochs = 10  # 훈련 에폭 수\n",
    "\n",
    "for epoch in range(epochs):\n",
    "    for i in range(len(x_train)):\n",
    "        # 현재 배치 데이터\n",
    "        inputs = x_train[i].unsqueeze(1)  # 배치 차원 추가\n",
    "        labels = y_train[i]\n",
    "\n",
    "        # Forward pass\n",
    "        outputs = model(inputs)\n",
    "        loss = criterion(outputs, labels)\n",
    "\n",
    "        # Backward and optimize\n",
    "        optimizer.zero_grad()\n",
    "        loss.backward()\n",
    "        optimizer.step()\n",
    "        \n",
    "    print(f'Epoch [{epoch+1}/{epochs}], Loss: {loss.item():.4f}')"
   ]
  },
  {
   "cell_type": "code",
   "execution_count": 18,
   "id": "26f89c98",
   "metadata": {},
   "outputs": [
    {
     "name": "stdout",
     "output_type": "stream",
     "text": [
      "Test Loss: 0.9136\n"
     ]
    }
   ],
   "source": [
    "# 모델을 평가 모드로 설정\n",
    "model.eval()\n",
    "\n",
    "test_loss = 0\n",
    "with torch.no_grad():\n",
    "    for i in range(len(x_test)):\n",
    "        inputs = x_test[i].unsqueeze(1)\n",
    "        labels = y_test[i]\n",
    "\n",
    "        outputs = model(inputs)\n",
    "        loss = criterion(outputs, labels)\n",
    "        test_loss += loss.item()\n",
    "\n",
    "    print(f'Test Loss: {test_loss / len(x_test):.4f}')\n"
   ]
  },
  {
   "cell_type": "code",
   "execution_count": null,
   "id": "e5ca6c25",
   "metadata": {},
   "outputs": [],
   "source": []
  }
 ],
 "metadata": {
  "kernelspec": {
   "display_name": "openai_f",
   "language": "python",
   "name": "openai"
  },
  "language_info": {
   "codemirror_mode": {
    "name": "ipython",
    "version": 3
   },
   "file_extension": ".py",
   "mimetype": "text/x-python",
   "name": "python",
   "nbconvert_exporter": "python",
   "pygments_lexer": "ipython3",
   "version": "3.8.19"
  }
 },
 "nbformat": 4,
 "nbformat_minor": 5
}
