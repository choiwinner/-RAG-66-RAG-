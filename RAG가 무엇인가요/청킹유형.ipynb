{
 "cells": [
  {
   "cell_type": "markdown",
   "id": "5d63d0fc",
   "metadata": {},
   "source": [
    "# RecursiveCharacterTextSplitter, CharacterTextSplitter, TokenTextSplitter 비교\n",
    "\n",
    "## RecursiveCharacterTextSplitter\n",
    "\n",
    "### 특징\n",
    "- 텍스트를 재귀적으로 분할하여 의미적으로 관련 있는 텍스트 조각들을 유지[1]\n",
    "- 여러 구분자를 순차적으로 적용하여 텍스트 분할[1]\n",
    "- 기본 구분자 목록: `[\"\\n\\n\", \"\\n\", \" \", \"\"]`[1]\n",
    "- 지정된 `chunk_size`보다 작아질 때까지 재귀적으로 분할[1]\n",
    "\n",
    "### 장점\n",
    "- 문맥을 최대한 유지하면서 텍스트를 효율적으로 분할[3]\n",
    "- 복잡한 텍스트 구조에 적합[3]\n",
    "- 긴 텍스트를 다룰 때 유용[3]\n",
    "\n",
    "## CharacterTextSplitter\n",
    "\n",
    "### 특징\n",
    "- 단일 구분자를 사용하여 텍스트를 분할[1]\n",
    "- 기본 구분자: `\"\\n\\n\"`[1]\n",
    "- 단순하고 직관적인 분할 방식[1]\n",
    "\n",
    "### 장점\n",
    "- 간단한 작업에 적합[3]\n",
    "- 빠르고 직관적인 분할이 필요할 때 유용[3]\n",
    "\n",
    "### 단점\n",
    "- 의미 단위 보존이 RecursiveCharacterTextSplitter에 비해 떨어질 수 있음[1]\n",
    "\n",
    "## TokenTextSplitter\n",
    "\n",
    "### 특징\n",
    "- 토큰 단위로 텍스트를 분할[4]\n",
    "- 언어 모델의 토큰화 방식에 따라 텍스트를 나눔[5]\n",
    "\n",
    "### 장점\n",
    "- 모델의 최대 토큰 길이에 맞춰 텍스트를 분할할 때 유용[5]\n",
    "- 언어 모델의 처리 단위와 일치하는 분할 가능[4]\n",
    "\n",
    "## 비교 요약\n",
    "\n",
    "| 특성 | RecursiveCharacterTextSplitter | CharacterTextSplitter | TokenTextSplitter |\n",
    "|------|--------------------------------|----------------------|-------------------|\n",
    "| 분할 방식 | 재귀적, 여러 구분자 사용 | 단일 구분자 사용 | 토큰 단위 분할 |\n",
    "| 문맥 보존 | 높음 | 중간 | 중간 |\n",
    "| 복잡성 | 높음 | 낮음 | 중간 |\n",
    "| 적합한 사용 사례 | 긴 텍스트, 복잡한 구조 | 간단한 텍스트, 빠른 처리 필요 | 토큰 기반 모델 사용 시 |\n",
    "\n",
    "## 결론\n",
    "\n",
    "- **RecursiveCharacterTextSplitter**는 문맥 보존과 복잡한 텍스트 처리에 가장 적합합니다[1][3].\n",
    "- **CharacterTextSplitter**는 간단하고 빠른 분할이 필요할 때 유용합니다[1][3].\n",
    "- **TokenTextSplitter**는 특정 언어 모델의 토큰 제한에 맞춰 텍스트를 분할해야 할 때 효과적입니다[4][5].\n",
    "\n",
    "선택 시 텍스트의 복잡성, 처리 속도 요구사항, 사용할 언어 모델의 특성을 고려하여 적절한 분할기를 선택해야 합니다.\n",
    "\n",
    "Citations:\n",
    "[1] https://wikidocs.net/231569\n",
    "[2] https://www.restack.io/p/text-chunking-answer-recursivecharactertextsplitter-vs-charactertextsplitter-cat-ai\n",
    "[3] https://rudaks.tistory.com/entry/langchain-CharacterTextSplitter%E1%84%8B%E1%85%AA-RecursiveCharacterTextSplitter%E1%84%8B%E1%85%B4-%E1%84%8E%E1%85%A1%E1%84%8B%E1%85%B5\n",
    "[4] https://wikidocs.net/234002\n",
    "[5] https://mobicon.tistory.com/611\n",
    "[6] https://dev.to/eteimz/understanding-langchains-recursivecharactertextsplitter-2846"
   ]
  },
  {
   "cell_type": "code",
   "execution_count": 1,
   "id": "8a7b4cfe-0e48-46e1-8e35-c4b3fede8fea",
   "metadata": {},
   "outputs": [],
   "source": [
    "#랭체인에서 Splitter 유형"
   ]
  },
  {
   "cell_type": "code",
   "execution_count": 2,
   "id": "b9b0ee85-4de4-4991-b1b2-6c5b1162625c",
   "metadata": {},
   "outputs": [],
   "source": [
    "from langchain.text_splitter import RecursiveCharacterTextSplitter, CharacterTextSplitter\n",
    "chunk_size =20\n",
    "chunk_overlap = 5\n",
    "\n",
    "r_splitter = RecursiveCharacterTextSplitter(\n",
    "    chunk_size=chunk_size,\n",
    "    chunk_overlap=chunk_overlap\n",
    ")\n",
    "c_splitter = CharacterTextSplitter(\n",
    "    chunk_size=chunk_size,\n",
    "    chunk_overlap=chunk_overlap\n",
    ")"
   ]
  },
  {
   "cell_type": "code",
   "execution_count": 3,
   "id": "98dd93d4-9841-46fd-b601-9913c31e7dab",
   "metadata": {},
   "outputs": [
    {
     "data": {
      "text/plain": [
       "['청킹을 위한 예제 데이터입니다.', '어떻게 쪼개지는지 알아볼까요?']"
      ]
     },
     "execution_count": 3,
     "metadata": {},
     "output_type": "execute_result"
    }
   ],
   "source": [
    "# Recursive Splitter\n",
    "text1 = '청킹을 위한 예제 데이터입니다. 어떻게 쪼개지는지 알아볼까요?'\n",
    "r_splitter.split_text(text1)"
   ]
  },
  {
   "cell_type": "code",
   "execution_count": 4,
   "id": "765c4151-2e1b-469e-9992-ab6e14cdbf7a",
   "metadata": {},
   "outputs": [
    {
     "data": {
      "text/plain": [
       "['청킹을 위한 예제 데이터입니다.', '어떻게 쪼개지는지 알아볼까요?', '결과를 확인해봅시다.']"
      ]
     },
     "execution_count": 4,
     "metadata": {},
     "output_type": "execute_result"
    }
   ],
   "source": [
    "# Character Splitter\n",
    "text2 = '청킹을 위한 예제 데이터입니다. 어떻게 쪼개지는지 알아볼까요? 결과를 확인해봅시다.'\n",
    "r_splitter.split_text(text2)\n"
   ]
  },
  {
   "cell_type": "code",
   "execution_count": 5,
   "id": "f6e61d0f-0e06-43ac-996d-98e27af29e5b",
   "metadata": {},
   "outputs": [
    {
     "data": {
      "text/plain": [
       "['청킹을 위한 예제 데이터입니다. 어떻게 쪼개지는지 알아볼까요?']"
      ]
     },
     "execution_count": 5,
     "metadata": {},
     "output_type": "execute_result"
    }
   ],
   "source": [
    "# Recursive Splitter\n",
    "text1 = '청킹을 위한 예제 데이터입니다. 어떻게 쪼개지는지 알아볼까요?'\n",
    "c_splitter.split_text(text1)\n"
   ]
  },
  {
   "cell_type": "code",
   "execution_count": 6,
   "id": "25e701f7-93f4-4d41-9900-a8750fa0a61f",
   "metadata": {},
   "outputs": [
    {
     "data": {
      "text/plain": [
       "['청킹을 위한 예제 데이터입니다. 어떻게 쪼개지는지 알아볼까요? 결과를 확인해봅시다.']"
      ]
     },
     "execution_count": 6,
     "metadata": {},
     "output_type": "execute_result"
    }
   ],
   "source": [
    "# Character Splitter\n",
    "text2 = '청킹을 위한 예제 데이터입니다. 어떻게 쪼개지는지 알아볼까요? 결과를 확인해봅시다.'\n",
    "c_splitter.split_text(text2)\n"
   ]
  },
  {
   "cell_type": "code",
   "execution_count": 7,
   "id": "f50d6403-f3e0-4706-bf85-c8620e4eb586",
   "metadata": {},
   "outputs": [],
   "source": [
    "some_text = \"\"\"When writing documents, writers will use document structure to group content. \\\n",
    "This can convey to the reader, which idea's are related. For example, closely related ideas \\\n",
    "are in sentances. Similar ideas are in paragraphs. Paragraphs form a document. \\n\\n  \\\n",
    "Paragraphs are often delimited with a carriage return or two carriage returns. \\\n",
    "Carriage returns are the \"backslash n\" you see embedded in this string. \\\n",
    "Sentences have a period at the end, but also, have a space.\\\n",
    "and words are separated by space.\"\"\"\n",
    "\n",
    "## 문단이 바뀌는 두줄 띄기(/n/n)로 잘 나누는 지 확인\n"
   ]
  },
  {
   "cell_type": "code",
   "execution_count": 8,
   "id": "fb9d7211-3760-4077-bd85-6bb2dc995cbb",
   "metadata": {},
   "outputs": [
    {
     "name": "stdout",
     "output_type": "stream",
     "text": [
      "오늘도\n",
      "\n",
      "어김없이\n",
      "\n",
      "\n",
      "LLM을\n",
      "\\학습한다\n"
     ]
    }
   ],
   "source": [
    "#한줄 띄우기, 두줄 띄우기 예시\n",
    "print('오늘도')\n",
    "print('\\n어김없이')\n",
    "print('\\n\\nLLM을')\n",
    "print('\\학습한다')"
   ]
  },
  {
   "cell_type": "code",
   "execution_count": 9,
   "id": "f176949d-b69f-453b-b0bf-273a9fe9f565",
   "metadata": {},
   "outputs": [],
   "source": [
    "some_text = \"\"\"When writing documents, writers will use document structure to group content. \\\n",
    "This can convey to the reader, which idea's are related. For example, closely related ideas \\\n",
    "are in sentances. Similar ideas are in paragraphs. Paragraphs form a document. \\n\\n  \\\n",
    "Paragraphs are often delimited with a carriage return or two carriage returns. \\\n",
    "Carriage returns are the \"backslash n\" you see embedded in this string. \\\n",
    "Sentences have a period at the end, but also, have a space.\\\n",
    "and words are separated by space.\"\"\"\n",
    "\n",
    "## 문단이 바뀌는 두줄 띄기(/n/n)로 잘 나누는 지 확인"
   ]
  },
  {
   "cell_type": "code",
   "execution_count": 25,
   "id": "6f61a4e1-fab9-4bac-b8e5-3c976ce32039",
   "metadata": {},
   "outputs": [],
   "source": [
    "c_splitter = CharacterTextSplitter(\n",
    "    chunk_size=450,\n",
    "    chunk_overlap=0,\n",
    "    separator = ' '\n",
    ")\n",
    "c_text = c_splitter.split_text(some_text)"
   ]
  },
  {
   "cell_type": "code",
   "execution_count": 26,
   "id": "9837705d",
   "metadata": {},
   "outputs": [
    {
     "data": {
      "text/plain": [
       "2"
      ]
     },
     "execution_count": 26,
     "metadata": {},
     "output_type": "execute_result"
    }
   ],
   "source": [
    "len(c_text) #2개로 나눔\n"
   ]
  },
  {
   "cell_type": "code",
   "execution_count": 27,
   "id": "aad44b57",
   "metadata": {},
   "outputs": [
    {
     "name": "stdout",
     "output_type": "stream",
     "text": [
      "448\n",
      "46\n"
     ]
    }
   ],
   "source": [
    "print(len(c_text[0])) #chunk_size(450ea)로 나뉨\n",
    "print(len(c_text[1]))"
   ]
  },
  {
   "cell_type": "code",
   "execution_count": 28,
   "id": "73057177",
   "metadata": {},
   "outputs": [
    {
     "name": "stdout",
     "output_type": "stream",
     "text": [
      "When writing documents, writers will use document structure to group content. This can convey to the reader, which idea's are related. For example, closely related ideas are in sentances. Similar ideas are in paragraphs. Paragraphs form a document. \n",
      "\n",
      " Paragraphs are often delimited with a carriage return or two carriage returns. Carriage returns are the \"backslash n\" you see embedded in this string. Sentences have a period at the end, but also,\n"
     ]
    }
   ],
   "source": [
    "print(c_text[0]) # also,로 나뉨"
   ]
  },
  {
   "cell_type": "code",
   "execution_count": 29,
   "id": "eb6ff1dc",
   "metadata": {},
   "outputs": [
    {
     "name": "stdout",
     "output_type": "stream",
     "text": [
      "have a space.and words are separated by space.\n"
     ]
    }
   ],
   "source": [
    "print(c_text[1])"
   ]
  },
  {
   "cell_type": "code",
   "execution_count": 21,
   "id": "e13e7101-97b3-4559-bd8b-ea9e0ebe79a1",
   "metadata": {},
   "outputs": [],
   "source": [
    "some_text = \"\"\"When writing documents, writers will use document structure to group content. \\\n",
    "This can convey to the reader, which idea's are related. For example, closely related ideas \\\n",
    "are in sentances. Similar ideas are in paragraphs. Paragraphs form a document. \\n\\n  \\\n",
    "Paragraphs are often delimited with a carriage return or two carriage returns. \\\n",
    "Carriage returns are the \"backslash n\" you see embedded in this string. \\\n",
    "Sentences have a period at the end, but also, have a space.\\\n",
    "and words are separated by space.\"\"\""
   ]
  },
  {
   "cell_type": "code",
   "execution_count": null,
   "id": "21987e93-22ba-49b0-851c-ac74f0615121",
   "metadata": {},
   "outputs": [],
   "source": [
    "r_splitter = RecursiveCharacterTextSplitter(\n",
    "    chunk_size=450,\n",
    "    chunk_overlap=0, \n",
    "    separators=[\"\\n\\n\", \"\\n\", \" \", \"\"]\n",
    ")\n",
    "r_text = r_splitter.split_text(some_text)\n",
    "# 하이퍼 파라미터 separators로 chunk의 우선 순위를 지정할 수 있다. \n",
    "# 1순위) '\\n\\n' 2)순위 '\\n' ..."
   ]
  },
  {
   "cell_type": "code",
   "execution_count": 31,
   "id": "89c3c3e4",
   "metadata": {},
   "outputs": [
    {
     "data": {
      "text/plain": [
       "2"
      ]
     },
     "execution_count": 31,
     "metadata": {},
     "output_type": "execute_result"
    }
   ],
   "source": [
    "len(r_text) #2개로 나눔"
   ]
  },
  {
   "cell_type": "code",
   "execution_count": 34,
   "id": "dcc64061",
   "metadata": {},
   "outputs": [
    {
     "name": "stdout",
     "output_type": "stream",
     "text": [
      "248\n",
      "243\n"
     ]
    }
   ],
   "source": [
    "print(len(r_text[0])) #chunk_size setting(450ea)가 아닌 248,243ea로 나눔\n",
    "print(len(r_text[1]))"
   ]
  },
  {
   "cell_type": "code",
   "execution_count": 35,
   "id": "705083f2",
   "metadata": {},
   "outputs": [
    {
     "name": "stdout",
     "output_type": "stream",
     "text": [
      "When writing documents, writers will use document structure to group content. This can convey to the reader, which idea's are related. For example, closely related ideas are in sentances. Similar ideas are in paragraphs. Paragraphs form a document.\n"
     ]
    }
   ],
   "source": [
    "print(r_text[0]) #'\\n\\n 전/후로 나뉨"
   ]
  },
  {
   "cell_type": "code",
   "execution_count": 36,
   "id": "61e1617d",
   "metadata": {},
   "outputs": [
    {
     "name": "stdout",
     "output_type": "stream",
     "text": [
      "Paragraphs are often delimited with a carriage return or two carriage returns. Carriage returns are the \"backslash n\" you see embedded in this string. Sentences have a period at the end, but also, have a space.and words are separated by space.\n"
     ]
    }
   ],
   "source": [
    "print(r_text[1]) #'\\n\\n 전/후로 나뉨"
   ]
  },
  {
   "cell_type": "code",
   "execution_count": 37,
   "id": "c54b2453-081c-48d0-b730-11eddabec6d6",
   "metadata": {},
   "outputs": [],
   "source": [
    "#RecursiveCharacterTextSplitter의 경우, \n",
    "#가장 먼저 \\n\\n으로 표시된 2줄 띄어쓰기 부분을 먼저 나누고, 이때 문장 역시 공백을 기준으로 나뉜 것을 확인할 수 있다\n",
    "#이후 한줄에 표시된 문장을 청크로 분리한다. \n",
    "#마지막으로 Character로 분리하기 때문에 더 세밀하게 chunking이 된다"
   ]
  },
  {
   "cell_type": "code",
   "execution_count": 40,
   "id": "6768ac3c-e69b-4752-86db-d40f3feae640",
   "metadata": {},
   "outputs": [],
   "source": [
    "#TokenTextSplitter 예시\n",
    "#Token 단위로 나누고 Token은 글자나 단어 단위가 아닌 것을 알 수 있다."
   ]
  },
  {
   "cell_type": "code",
   "execution_count": 41,
   "id": "939de7b5-d4c5-4e72-8f4c-ab907a4492ab",
   "metadata": {},
   "outputs": [
    {
     "data": {
      "text/plain": [
       "['Border',\n",
       " ' coll',\n",
       " 'ies',\n",
       " ' are',\n",
       " ' very',\n",
       " ' intelligent',\n",
       " ',',\n",
       " ' capable',\n",
       " ' of',\n",
       " ' learning',\n",
       " ' well',\n",
       " ',',\n",
       " ' and',\n",
       " ' have',\n",
       " ' a',\n",
       " ' lot',\n",
       " ' of',\n",
       " ' energy',\n",
       " ',',\n",
       " ' so',\n",
       " ' they',\n",
       " ' need',\n",
       " ' a',\n",
       " ' lot',\n",
       " ' of',\n",
       " ' exercise',\n",
       " '.',\n",
       " ' They',\n",
       " ' have',\n",
       " ' strong',\n",
       " ' her',\n",
       " 'ding',\n",
       " ' instincts',\n",
       " ' and',\n",
       " ' can',\n",
       " ' easily',\n",
       " ' learn',\n",
       " ' a',\n",
       " ' variety',\n",
       " ' of',\n",
       " ' tricks',\n",
       " ' and',\n",
       " ' commands',\n",
       " '.']"
      ]
     },
     "execution_count": 41,
     "metadata": {},
     "output_type": "execute_result"
    }
   ],
   "source": [
    "from langchain.text_splitter import TokenTextSplitter\n",
    "\n",
    "text_splitter = TokenTextSplitter(chunk_size=1, chunk_overlap=0)\n",
    "\n",
    "text1 = \"Border collies are very intelligent, capable of learning well, and have a lot of energy, so they need a lot of exercise. They have strong herding instincts and can easily learn a variety of tricks and commands.\"\n",
    "text_splitter.split_text(text1)"
   ]
  },
  {
   "cell_type": "code",
   "execution_count": null,
   "id": "0f3aa5a2-da14-49b3-af33-cea664f64a04",
   "metadata": {},
   "outputs": [],
   "source": []
  }
 ],
 "metadata": {
  "kernelspec": {
   "display_name": "py31012",
   "language": "python",
   "name": "python3"
  },
  "language_info": {
   "codemirror_mode": {
    "name": "ipython",
    "version": 3
   },
   "file_extension": ".py",
   "mimetype": "text/x-python",
   "name": "python",
   "nbconvert_exporter": "python",
   "pygments_lexer": "ipython3",
   "version": "3.10.12"
  }
 },
 "nbformat": 4,
 "nbformat_minor": 5
}
