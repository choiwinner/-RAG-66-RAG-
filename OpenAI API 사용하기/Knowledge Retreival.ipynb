{
 "cells": [
  {
   "cell_type": "code",
   "execution_count": 1,
   "id": "6566630e",
   "metadata": {},
   "outputs": [],
   "source": [
    "from openai import OpenAI\n",
    "client = OpenAI(\n",
    "  api_key=\"sk-\"\n",
    ")\n",
    "file = client.files.create(file=open(\"e:/data/차세대 한국형 스마트팜 개발.pdf\", \"rb\"), purpose=\"assistants\")"
   ]
  },
  {
   "cell_type": "code",
   "execution_count": 2,
   "id": "ae4950ae",
   "metadata": {},
   "outputs": [
    {
     "name": "stdout",
     "output_type": "stream",
     "text": [
      "Assistant(id='asst_AxQuD0IGdfz2gVaq6vXEki3Z', created_at=1712493479, description=None, file_ids=['file-nSMNJhfYD8y35syGQnZ1cffP'], instructions='You are a Q&A bot, and you have access to files to answer questions about the company.', metadata={}, model='gpt-4-1106-preview', name='Q&A Bot', object='assistant', tools=[RetrievalTool(type='retrieval')])\n"
     ]
    }
   ],
   "source": [
    "# Assistant를 생성\n",
    "assistant = client.beta.assistants.create(\n",
    "    instructions=\"You are a Q&A bot, and you have access to files to answer questions about the company.\",\n",
    "    name=\"Q&A Bot\",\n",
    "    tools=[{\"type\": \"retrieval\"}],\n",
    "    model=\"gpt-4-1106-preview\",\n",
    "    file_ids=[file.id],\n",
    ")\n",
    "print(assistant)"
   ]
  },
  {
   "cell_type": "code",
   "execution_count": 3,
   "id": "25208f6c",
   "metadata": {},
   "outputs": [
    {
     "name": "stdout",
     "output_type": "stream",
     "text": [
      "Thread(id='thread_pxaEq7jEOydJf3XuuybFl9t4', created_at=1712493480, metadata={}, object='thread')\n"
     ]
    }
   ],
   "source": [
    "# Thread 생성\n",
    "thread = client.beta.threads.create()\n",
    "print(thread)"
   ]
  },
  {
   "cell_type": "code",
   "execution_count": 8,
   "id": "00c73563",
   "metadata": {},
   "outputs": [
    {
     "name": "stdout",
     "output_type": "stream",
     "text": [
      "Message(id='msg_kR9FUdOCIXZXm5TpxXvjrM3T', assistant_id=None, completed_at=None, content=[TextContentBlock(text=Text(annotations=[], value='what is korean smart farm?'), type='text')], created_at=1712493639, file_ids=[], incomplete_at=None, incomplete_details=None, metadata={}, object='thread.message', role='user', run_id=None, status=None, thread_id='thread_pxaEq7jEOydJf3XuuybFl9t4')\n"
     ]
    }
   ],
   "source": [
    "# 생성한 Thread에 Message 생성\n",
    "message = client.beta.threads.messages.create(\n",
    "  thread_id=thread.id,\n",
    "  role=\"user\",\n",
    "  content=\"what is korean smart farm?\",\n",
    ")\n",
    "print(message)"
   ]
  },
  {
   "cell_type": "code",
   "execution_count": 9,
   "id": "9bac5bc7",
   "metadata": {},
   "outputs": [
    {
     "name": "stdout",
     "output_type": "stream",
     "text": [
      "Run(id='run_uMLbPnzNgwxWNRYwfk9lH0f0', assistant_id='asst_AxQuD0IGdfz2gVaq6vXEki3Z', cancelled_at=None, completed_at=None, created_at=1712493641, expires_at=1712494241, failed_at=None, file_ids=['file-nSMNJhfYD8y35syGQnZ1cffP'], instructions='You are a Q&A bot, and you have access to files to answer questions about the company.', last_error=None, metadata={}, model='gpt-4-1106-preview', object='thread.run', required_action=None, started_at=None, status='queued', thread_id='thread_pxaEq7jEOydJf3XuuybFl9t4', tools=[RetrievalTool(type='retrieval')], usage=None, temperature=1.0)\n"
     ]
    }
   ],
   "source": [
    "# Assistant 실행\n",
    "run = client.beta.threads.runs.create(\n",
    "    thread_id=thread.id, \n",
    "    assistant_id=assistant.id\n",
    ")\n",
    "print(run)"
   ]
  },
  {
   "cell_type": "code",
   "execution_count": 10,
   "id": "86595128",
   "metadata": {},
   "outputs": [],
   "source": [
    "# Retrieving the run\n",
    "run = client.beta.threads.runs.retrieve(\n",
    "    thread_id=thread.id, \n",
    "    run_id=run.id\n",
    "    )"
   ]
  },
  {
   "cell_type": "code",
   "execution_count": 11,
   "id": "b9d77448",
   "metadata": {},
   "outputs": [
    {
     "name": "stdout",
     "output_type": "stream",
     "text": [
      "\n",
      "# Message 1:\n",
      "한국형 스마트팜이란?\n",
      "\n",
      "# Message 2:\n",
      "한국형 스마트팜은 고령화 및 높은 노동 강도의 문제를 겪고 있는 한국 농업에 대한 대안으로 제안된 효율적인 농업 형태입니다. 이는 사물인터넷, 빅데이터, 인공지능, 로봇 등의 첨단 기술을 활용하여 농산물의 생육 환경을 최적화하고, 노동력 절감 및 생산성 향상을 목표로 하고 있습니다. 한국형 스마트팜은 기술 수준에 따라 세대별로 구분되며, 1세대는 편의성 증진, 2세대는 생산성 향상, 그리고 3세대는 글로벌 산업화 및 플랜트 수출형으로 나뉩니다. 3세대는 특히 에너지 최적화와 로봇 자동화 등을 포함하는 스마트팜 통합시스템으로, 국내 농가의 규모화 및 생력화를 통한 생산비 절감과 경쟁력 향상, 비닐하우스 중심의 저비용 고성능 스마트팜 개발을 목표로 하고 있습니다. 이러한 한국형 스마트팜은 농업 선진국 및 수출국으로서 한국의 세계 시장에서의 지위를 확보하는데 핵심 역할을 할 것으로 기대되고 있습니다 .\n",
      "\n",
      "# Message 3:\n",
      "what is korean smart farm?\n",
      "\n",
      "# Message 4:\n"
     ]
    }
   ],
   "source": [
    "#생성한 Thread에 Message 생성\n",
    "messages = client.beta.threads.messages.list(\n",
    "  thread_id=thread.id,\n",
    ")\n",
    "for i, message in enumerate(reversed(messages.data), start=1):\n",
    "    print(f\"\\n# Message {i}:\")\n",
    "    for content in message.content:\n",
    "        print(content.text.value)"
   ]
  },
  {
   "cell_type": "code",
   "execution_count": null,
   "id": "65aa260b",
   "metadata": {},
   "outputs": [],
   "source": []
  }
 ],
 "metadata": {
  "kernelspec": {
   "display_name": "openai_f",
   "language": "python",
   "name": "openai"
  },
  "language_info": {
   "codemirror_mode": {
    "name": "ipython",
    "version": 3
   },
   "file_extension": ".py",
   "mimetype": "text/x-python",
   "name": "python",
   "nbconvert_exporter": "python",
   "pygments_lexer": "ipython3",
   "version": "3.8.19"
  }
 },
 "nbformat": 4,
 "nbformat_minor": 5
}
