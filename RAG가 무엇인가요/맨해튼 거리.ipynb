{
 "cells": [
  {
   "cell_type": "code",
   "execution_count": 1,
   "id": "613c7bc4-ee02-4f0c-95c0-0333b6df3a0c",
   "metadata": {},
   "outputs": [],
   "source": [
    "#맨해튼 거리 (유클리드 거리와 비교)"
   ]
  },
  {
   "cell_type": "code",
   "execution_count": 2,
   "id": "86b70124-944d-4392-9fc5-d39ad1628485",
   "metadata": {},
   "outputs": [
    {
     "name": "stdout",
     "output_type": "stream",
     "text": [
      "첫번째 포인트 : (1, 2, 3)\n",
      "두번째 포인트 : (4, 5, 6)\n"
     ]
    }
   ],
   "source": [
    "from scipy.spatial import distance\n",
    "from scipy.spatial.distance import cityblock\n",
    "a = (1, 2, 3)\n",
    "b = (4, 5, 6)\n",
    "\n",
    "print('첫번째 포인트 :', a)\n",
    "print('두번째 포인트 :', b)"
   ]
  },
  {
   "cell_type": "code",
   "execution_count": 3,
   "id": "754c8ae1-a5dd-471c-b42d-965ebacaaa1e",
   "metadata": {},
   "outputs": [
    {
     "name": "stdout",
     "output_type": "stream",
     "text": [
      "유클리드 거리 5.196152422706632\n",
      "\n",
      "맨해튼 거리 9\n"
     ]
    }
   ],
   "source": [
    "#distance.euclidean() 함수 사용\n",
    "euclidean_distance = distance.euclidean(a, b) \n",
    "print('유클리드 거리', euclidean_distance)\n",
    "\n",
    "manhattan_distance = cityblock(a, b)\n",
    "print('\\n맨해튼 거리', manhattan_distance)"
   ]
  },
  {
   "cell_type": "code",
   "execution_count": null,
   "id": "ad7338a2-a843-4813-a83d-f3bbe762c9cd",
   "metadata": {},
   "outputs": [],
   "source": []
  }
 ],
 "metadata": {
  "kernelspec": {
   "display_name": "openai_f",
   "language": "python",
   "name": "openai"
  },
  "language_info": {
   "codemirror_mode": {
    "name": "ipython",
    "version": 3
   },
   "file_extension": ".py",
   "mimetype": "text/x-python",
   "name": "python",
   "nbconvert_exporter": "python",
   "pygments_lexer": "ipython3",
   "version": "3.8.19"
  }
 },
 "nbformat": 4,
 "nbformat_minor": 5
}
