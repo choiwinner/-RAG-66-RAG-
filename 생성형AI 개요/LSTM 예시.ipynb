{
 "cells": [
  {
   "cell_type": "code",
   "execution_count": 1,
   "id": "2636262b",
   "metadata": {},
   "outputs": [],
   "source": [
    "import torch\n",
    "import torch.nn as nn\n",
    "import torch.optim as optim"
   ]
  },
  {
   "cell_type": "code",
   "execution_count": 2,
   "id": "a461dd0d",
   "metadata": {},
   "outputs": [],
   "source": [
    "class SimpleLSTM(nn.Module):\n",
    "    def __init__(self, input_size, hidden_size, output_size):\n",
    "        super(SimpleLSTM, self).__init__()\n",
    "        self.hidden_size = hidden_size\n",
    "        \n",
    "        self.lstm = nn.LSTM(input_size, hidden_size)  # LSTM 레이어\n",
    "        self.fc = nn.Linear(hidden_size, output_size)  # 출력 레이어\n",
    "\n",
    "    def forward(self, x):\n",
    "        h0 = torch.zeros(1, x.size(1), self.hidden_size)  # 초기 은닉 상태\n",
    "        c0 = torch.zeros(1, x.size(1), self.hidden_size)  # 초기 셀 상태\n",
    "        \n",
    "        out, _ = self.lstm(x, (h0, c0))  \n",
    "        out = self.fc(out[:, -1, :])  # 시퀀스의 마지막 출력을 사용\n",
    "        return out"
   ]
  },
  {
   "cell_type": "code",
   "execution_count": 4,
   "id": "ab9f847a",
   "metadata": {},
   "outputs": [],
   "source": [
    "input_size = 10\n",
    "hidden_size = 20\n",
    "output_size = 1\n",
    "# 임의의 훈련 데이터 생성\n",
    "x_train = torch.randn(100, 5, input_size)  # 100개의 샘플, 각 샘플은 5시간 단계, 입력 특성의 수\n",
    "y_train = torch.randn(100, 1)  # 각 샘플에 대한 임의의 출력값\n",
    "\n",
    "# 임의의 테스트 데이터 생성\n",
    "x_test = torch.randn(20, 5, input_size)  # 20개의 샘플로 구성된 테스트 데이터\n",
    "y_test = torch.randn(20, 1)  # 테스트 레이블\n"
   ]
  },
  {
   "cell_type": "code",
   "execution_count": 6,
   "id": "47a32311",
   "metadata": {},
   "outputs": [],
   "source": [
    "model = SimpleLSTM(input_size, hidden_size, output_size)\n",
    "\n",
    "criterion = nn.MSELoss()\n",
    "optimizer = optim.Adam(model.parameters(), lr=0.01)"
   ]
  },
  {
   "cell_type": "code",
   "execution_count": 7,
   "id": "f07aff66",
   "metadata": {},
   "outputs": [
    {
     "name": "stderr",
     "output_type": "stream",
     "text": [
      "e:\\anaconda3\\envs\\llm\\lib\\site-packages\\torch\\nn\\modules\\loss.py:535: UserWarning: Using a target size (torch.Size([1])) that is different to the input size (torch.Size([5, 1])). This will likely lead to incorrect results due to broadcasting. Please ensure they have the same size.\n",
      "  return F.mse_loss(input, target, reduction=self.reduction)\n"
     ]
    },
    {
     "name": "stdout",
     "output_type": "stream",
     "text": [
      "Epoch [1/10], Loss: 5.1874\n",
      "Epoch [2/10], Loss: 5.0439\n",
      "Epoch [3/10], Loss: 4.4027\n",
      "Epoch [4/10], Loss: 2.7180\n",
      "Epoch [5/10], Loss: 1.6994\n",
      "Epoch [6/10], Loss: 1.3312\n",
      "Epoch [7/10], Loss: 1.1606\n",
      "Epoch [8/10], Loss: 1.0433\n",
      "Epoch [9/10], Loss: 0.8836\n",
      "Epoch [10/10], Loss: 0.8313\n"
     ]
    }
   ],
   "source": [
    "epochs = 10  # 훈련 에폭 수\n",
    "\n",
    "for epoch in range(epochs):\n",
    "    model.train()\n",
    "    for i in range(len(x_train)):\n",
    "        inputs = x_train[i].unsqueeze(1)  # 배치 차원 추가\n",
    "        labels = y_train[i]\n",
    "\n",
    "        outputs = model(inputs)\n",
    "        loss = criterion(outputs, labels)\n",
    "\n",
    "        optimizer.zero_grad()\n",
    "        loss.backward()\n",
    "        optimizer.step()\n",
    "        \n",
    "    print(f'Epoch [{epoch+1}/{epochs}], Loss: {loss.item():.4f}')\n"
   ]
  },
  {
   "cell_type": "code",
   "execution_count": 8,
   "id": "e5113fe1",
   "metadata": {},
   "outputs": [
    {
     "name": "stdout",
     "output_type": "stream",
     "text": [
      "Test Sample: 1, Loss: 0.0776\n",
      "Test Sample: 2, Loss: 4.3076\n",
      "Test Sample: 3, Loss: 2.0230\n",
      "Test Sample: 4, Loss: 0.0462\n",
      "Test Sample: 5, Loss: 0.2251\n",
      "Test Sample: 6, Loss: 0.0882\n",
      "Test Sample: 7, Loss: 1.2283\n",
      "Test Sample: 8, Loss: 0.4944\n",
      "Test Sample: 9, Loss: 0.8812\n",
      "Test Sample: 10, Loss: 0.9420\n",
      "Test Sample: 11, Loss: 2.3723\n",
      "Test Sample: 12, Loss: 0.9368\n",
      "Test Sample: 13, Loss: 8.6374\n",
      "Test Sample: 14, Loss: 0.7511\n",
      "Test Sample: 15, Loss: 1.9320\n",
      "Test Sample: 16, Loss: 2.5755\n",
      "Test Sample: 17, Loss: 0.6026\n",
      "Test Sample: 18, Loss: 2.1915\n",
      "Test Sample: 19, Loss: 0.8615\n",
      "Test Sample: 20, Loss: 0.7167\n"
     ]
    }
   ],
   "source": [
    "model.eval()  # 평가 모드\n",
    "with torch.no_grad():  # 기울기 계산 비활성화\n",
    "    correct = 0\n",
    "    total = 0\n",
    "    for i in range(len(x_test)):\n",
    "        inputs = x_test[i].unsqueeze(1)\n",
    "        labels = y_test[i]\n",
    "        outputs = model(inputs)\n",
    "        loss = criterion(outputs, labels)\n",
    "        print(f'Test Sample: {i+1}, Loss: {loss.item():.4f}')"
   ]
  },
  {
   "cell_type": "code",
   "execution_count": null,
   "id": "173a8403",
   "metadata": {},
   "outputs": [],
   "source": []
  }
 ],
 "metadata": {
  "kernelspec": {
   "display_name": "openai_f",
   "language": "python",
   "name": "openai"
  },
  "language_info": {
   "codemirror_mode": {
    "name": "ipython",
    "version": 3
   },
   "file_extension": ".py",
   "mimetype": "text/x-python",
   "name": "python",
   "nbconvert_exporter": "python",
   "pygments_lexer": "ipython3",
   "version": "3.8.19"
  }
 },
 "nbformat": 4,
 "nbformat_minor": 5
}
