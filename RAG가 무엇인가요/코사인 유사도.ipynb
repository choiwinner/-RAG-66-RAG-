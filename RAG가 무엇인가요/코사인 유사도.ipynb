{
 "cells": [
  {
   "cell_type": "code",
   "execution_count": 1,
   "id": "47f966f5-c616-444b-b79d-d3341cc781cb",
   "metadata": {},
   "outputs": [],
   "source": [
    "# 코사인 유사도"
   ]
  },
  {
   "cell_type": "code",
   "execution_count": 2,
   "id": "b80433dd-1faa-4ac7-9d2a-21031c049e9d",
   "metadata": {},
   "outputs": [],
   "source": [
    "#1. Straight Python\n",
    "#2. NumPy 이용\n",
    "#3. Scikit-Learn 이용"
   ]
  },
  {
   "cell_type": "code",
   "execution_count": 3,
   "id": "7914f389-56d4-4c64-8eaf-d14dd8a7fa60",
   "metadata": {},
   "outputs": [
    {
     "name": "stdout",
     "output_type": "stream",
     "text": [
      "코사인 유사도: 0.9746318461970762\n"
     ]
    }
   ],
   "source": [
    "#1. Straight Python\n",
    "#추가 라이브러리 없이 Python을 사용하여 코사인 유사성을 계산\n",
    "A = [1, 2, 3]\n",
    "B = [4, 5, 6]\n",
    "\n",
    "# dot product 계산\n",
    "dot_product = sum(a*b for a, b in zip(A, B))\n",
    "\n",
    "# 각 벡터의 크기를 계산\n",
    "magnitude_A = sum(a*a for a in A)**0.5\n",
    "magnitude_B = sum(b*b for b in B)**0.5\n",
    "\n",
    "# 코사인 유사도 계산\n",
    "cosine_similarity = dot_product / (magnitude_A * magnitude_B)\n",
    "print(f\"코사인 유사도: {cosine_similarity}\")"
   ]
  },
  {
   "cell_type": "code",
   "execution_count": 6,
   "id": "b5d1dbcd-5331-490a-ad90-8fab05993364",
   "metadata": {},
   "outputs": [
    {
     "name": "stdout",
     "output_type": "stream",
     "text": [
      "코사인 유사도: 0.9746318461970762\n"
     ]
    }
   ],
   "source": [
    "#2. NumPy 이용\n",
    "import numpy as np\n",
    "\n",
    "# NumPy 사용: 배열 연산을 사용하여 코사인 유사도를 계산\n",
    "A = np.array([1, 2, 3])\n",
    "B = np.array([4, 5, 6])\n",
    "\n",
    "dot_product = np.dot(A, B)\n",
    "magnitude_A = np.linalg.norm(A)\n",
    "magnitude_B = np.linalg.norm(B)\n",
    "\n",
    "cosine_similarity = dot_product / (magnitude_A * magnitude_B)\n",
    "print(f\"코사인 유사도: {cosine_similarity}\")"
   ]
  },
  {
   "cell_type": "code",
   "execution_count": 7,
   "id": "039b2a43-8862-4785-8145-34e80b42fdbc",
   "metadata": {},
   "outputs": [
    {
     "name": "stdout",
     "output_type": "stream",
     "text": [
      "코사인 유사도: 0.9746318461970762\n"
     ]
    }
   ],
   "source": [
    "#3. Scikit-Learn 이용\n",
    "#cosine_similarity 함수를 사용하여 코사인 유사도 계산\n",
    "from sklearn.metrics.pairwise import cosine_similarity\n",
    "\n",
    "A = np.array([[1, 2, 3]])\n",
    "B = np.array([[4, 5, 6]])\n",
    "\n",
    "cosine_similarity_result = cosine_similarity(A, B)\n",
    "print(f\"코사인 유사도: {cosine_similarity_result[0][0]}\")"
   ]
  },
  {
   "cell_type": "code",
   "execution_count": null,
   "id": "3c881429-7213-4a92-b234-e2a04139e52b",
   "metadata": {},
   "outputs": [],
   "source": []
  }
 ],
 "metadata": {
  "kernelspec": {
   "display_name": "openai_f",
   "language": "python",
   "name": "openai"
  },
  "language_info": {
   "codemirror_mode": {
    "name": "ipython",
    "version": 3
   },
   "file_extension": ".py",
   "mimetype": "text/x-python",
   "name": "python",
   "nbconvert_exporter": "python",
   "pygments_lexer": "ipython3",
   "version": "3.8.19"
  }
 },
 "nbformat": 4,
 "nbformat_minor": 5
}
